{
 "cells": [
  {
   "cell_type": "markdown",
   "id": "855c0fe5",
   "metadata": {},
   "source": [
    "# House Rent Prediction "
   ]
  },
  {
   "cell_type": "code",
   "execution_count": 1,
   "id": "8b70b3b6",
   "metadata": {},
   "outputs": [],
   "source": [
    "import numpy as np\n",
    "import pandas as pd\n",
    "import matplotlib.pyplot as plt\n",
    "import seaborn as sns\n",
    "\n",
    "import warnings\n",
    "warnings.filterwarnings('ignore')"
   ]
  },
  {
   "cell_type": "code",
   "execution_count": 2,
   "id": "bab32ad5",
   "metadata": {},
   "outputs": [],
   "source": [
    "house_rent = pd.read_csv(\"D:\\\\data science uni\\\\kaggle\\\\House_Rent_Dataset.csv\")"
   ]
  },
  {
   "cell_type": "code",
   "execution_count": 3,
   "id": "ef31cc09",
   "metadata": {
    "scrolled": true
   },
   "outputs": [
    {
     "data": {
      "text/html": [
       "<div>\n",
       "<style scoped>\n",
       "    .dataframe tbody tr th:only-of-type {\n",
       "        vertical-align: middle;\n",
       "    }\n",
       "\n",
       "    .dataframe tbody tr th {\n",
       "        vertical-align: top;\n",
       "    }\n",
       "\n",
       "    .dataframe thead th {\n",
       "        text-align: right;\n",
       "    }\n",
       "</style>\n",
       "<table border=\"1\" class=\"dataframe\">\n",
       "  <thead>\n",
       "    <tr style=\"text-align: right;\">\n",
       "      <th></th>\n",
       "      <th>Posted On</th>\n",
       "      <th>BHK</th>\n",
       "      <th>Rent</th>\n",
       "      <th>Size</th>\n",
       "      <th>Floor</th>\n",
       "      <th>Area Type</th>\n",
       "      <th>Area Locality</th>\n",
       "      <th>City</th>\n",
       "      <th>Furnishing Status</th>\n",
       "      <th>Tenant Preferred</th>\n",
       "      <th>Bathroom</th>\n",
       "      <th>Point of Contact</th>\n",
       "    </tr>\n",
       "  </thead>\n",
       "  <tbody>\n",
       "    <tr>\n",
       "      <th>0</th>\n",
       "      <td>18-05-2022</td>\n",
       "      <td>2</td>\n",
       "      <td>10000</td>\n",
       "      <td>1100</td>\n",
       "      <td>Ground out of 2</td>\n",
       "      <td>Super Area</td>\n",
       "      <td>Bandel</td>\n",
       "      <td>Kolkata</td>\n",
       "      <td>Unfurnished</td>\n",
       "      <td>Bachelors/Family</td>\n",
       "      <td>2</td>\n",
       "      <td>Contact Owner</td>\n",
       "    </tr>\n",
       "    <tr>\n",
       "      <th>1</th>\n",
       "      <td>13-05-2022</td>\n",
       "      <td>2</td>\n",
       "      <td>20000</td>\n",
       "      <td>800</td>\n",
       "      <td>1 out of 3</td>\n",
       "      <td>Super Area</td>\n",
       "      <td>Phool Bagan, Kankurgachi</td>\n",
       "      <td>Kolkata</td>\n",
       "      <td>Semi-Furnished</td>\n",
       "      <td>Bachelors/Family</td>\n",
       "      <td>1</td>\n",
       "      <td>Contact Owner</td>\n",
       "    </tr>\n",
       "    <tr>\n",
       "      <th>2</th>\n",
       "      <td>16-05-2022</td>\n",
       "      <td>2</td>\n",
       "      <td>17000</td>\n",
       "      <td>1000</td>\n",
       "      <td>1 out of 3</td>\n",
       "      <td>Super Area</td>\n",
       "      <td>Salt Lake City Sector 2</td>\n",
       "      <td>Kolkata</td>\n",
       "      <td>Semi-Furnished</td>\n",
       "      <td>Bachelors/Family</td>\n",
       "      <td>1</td>\n",
       "      <td>Contact Owner</td>\n",
       "    </tr>\n",
       "    <tr>\n",
       "      <th>3</th>\n",
       "      <td>04-07-2022</td>\n",
       "      <td>2</td>\n",
       "      <td>10000</td>\n",
       "      <td>800</td>\n",
       "      <td>1 out of 2</td>\n",
       "      <td>Super Area</td>\n",
       "      <td>Dumdum Park</td>\n",
       "      <td>Kolkata</td>\n",
       "      <td>Unfurnished</td>\n",
       "      <td>Bachelors/Family</td>\n",
       "      <td>1</td>\n",
       "      <td>Contact Owner</td>\n",
       "    </tr>\n",
       "    <tr>\n",
       "      <th>4</th>\n",
       "      <td>09-05-2022</td>\n",
       "      <td>2</td>\n",
       "      <td>7500</td>\n",
       "      <td>850</td>\n",
       "      <td>1 out of 2</td>\n",
       "      <td>Carpet Area</td>\n",
       "      <td>South Dum Dum</td>\n",
       "      <td>Kolkata</td>\n",
       "      <td>Unfurnished</td>\n",
       "      <td>Bachelors</td>\n",
       "      <td>1</td>\n",
       "      <td>Contact Owner</td>\n",
       "    </tr>\n",
       "  </tbody>\n",
       "</table>\n",
       "</div>"
      ],
      "text/plain": [
       "    Posted On  BHK   Rent  Size            Floor    Area Type  \\\n",
       "0  18-05-2022    2  10000  1100  Ground out of 2   Super Area   \n",
       "1  13-05-2022    2  20000   800       1 out of 3   Super Area   \n",
       "2  16-05-2022    2  17000  1000       1 out of 3   Super Area   \n",
       "3  04-07-2022    2  10000   800       1 out of 2   Super Area   \n",
       "4  09-05-2022    2   7500   850       1 out of 2  Carpet Area   \n",
       "\n",
       "              Area Locality     City Furnishing Status  Tenant Preferred  \\\n",
       "0                    Bandel  Kolkata       Unfurnished  Bachelors/Family   \n",
       "1  Phool Bagan, Kankurgachi  Kolkata    Semi-Furnished  Bachelors/Family   \n",
       "2   Salt Lake City Sector 2  Kolkata    Semi-Furnished  Bachelors/Family   \n",
       "3               Dumdum Park  Kolkata       Unfurnished  Bachelors/Family   \n",
       "4             South Dum Dum  Kolkata       Unfurnished         Bachelors   \n",
       "\n",
       "   Bathroom Point of Contact  \n",
       "0         2    Contact Owner  \n",
       "1         1    Contact Owner  \n",
       "2         1    Contact Owner  \n",
       "3         1    Contact Owner  \n",
       "4         1    Contact Owner  "
      ]
     },
     "execution_count": 3,
     "metadata": {},
     "output_type": "execute_result"
    }
   ],
   "source": [
    "house_rent.head()"
   ]
  },
  {
   "cell_type": "code",
   "execution_count": 4,
   "id": "b337a5d8",
   "metadata": {
    "scrolled": true
   },
   "outputs": [
    {
     "name": "stdout",
     "output_type": "stream",
     "text": [
      "<class 'pandas.core.frame.DataFrame'>\n",
      "RangeIndex: 4746 entries, 0 to 4745\n",
      "Data columns (total 12 columns):\n",
      " #   Column             Non-Null Count  Dtype \n",
      "---  ------             --------------  ----- \n",
      " 0   Posted On          4746 non-null   object\n",
      " 1   BHK                4746 non-null   int64 \n",
      " 2   Rent               4746 non-null   int64 \n",
      " 3   Size               4746 non-null   int64 \n",
      " 4   Floor              4746 non-null   object\n",
      " 5   Area Type          4746 non-null   object\n",
      " 6   Area Locality      4746 non-null   object\n",
      " 7   City               4746 non-null   object\n",
      " 8   Furnishing Status  4746 non-null   object\n",
      " 9   Tenant Preferred   4746 non-null   object\n",
      " 10  Bathroom           4746 non-null   int64 \n",
      " 11  Point of Contact   4746 non-null   object\n",
      "dtypes: int64(4), object(8)\n",
      "memory usage: 445.1+ KB\n"
     ]
    }
   ],
   "source": [
    "house_rent.info()"
   ]
  },
  {
   "cell_type": "code",
   "execution_count": 5,
   "id": "220d68f5",
   "metadata": {},
   "outputs": [
    {
     "data": {
      "text/plain": [
       "(4746, 12)"
      ]
     },
     "execution_count": 5,
     "metadata": {},
     "output_type": "execute_result"
    }
   ],
   "source": [
    "house_rent.shape"
   ]
  },
  {
   "cell_type": "code",
   "execution_count": 6,
   "id": "6a137038",
   "metadata": {},
   "outputs": [
    {
     "data": {
      "text/plain": [
       "Index(['Posted On', 'BHK', 'Rent', 'Size', 'Floor', 'Area Type',\n",
       "       'Area Locality', 'City', 'Furnishing Status', 'Tenant Preferred',\n",
       "       'Bathroom', 'Point of Contact'],\n",
       "      dtype='object')"
      ]
     },
     "execution_count": 6,
     "metadata": {},
     "output_type": "execute_result"
    }
   ],
   "source": [
    "house_rent.columns"
   ]
  },
  {
   "cell_type": "markdown",
   "id": "980244ee",
   "metadata": {},
   "source": [
    "**Calculate Missing values in dataset"
   ]
  },
  {
   "cell_type": "code",
   "execution_count": 7,
   "id": "3d327dd1",
   "metadata": {
    "scrolled": true
   },
   "outputs": [
    {
     "data": {
      "text/plain": [
       "Posted On            0\n",
       "BHK                  0\n",
       "Rent                 0\n",
       "Size                 0\n",
       "Floor                0\n",
       "Area Type            0\n",
       "Area Locality        0\n",
       "City                 0\n",
       "Furnishing Status    0\n",
       "Tenant Preferred     0\n",
       "Bathroom             0\n",
       "Point of Contact     0\n",
       "dtype: int64"
      ]
     },
     "execution_count": 7,
     "metadata": {},
     "output_type": "execute_result"
    }
   ],
   "source": [
    "house_rent.isnull().sum()"
   ]
  },
  {
   "cell_type": "markdown",
   "id": "d6e814d8",
   "metadata": {},
   "source": [
    "\n",
    "\n",
    "**There is no null value for any column in the dataset.\n",
    "\n"
   ]
  },
  {
   "cell_type": "markdown",
   "id": "45fd4cc6",
   "metadata": {},
   "source": [
    "\n",
    "**Statistical Description of Columns\n"
   ]
  },
  {
   "cell_type": "code",
   "execution_count": 8,
   "id": "29307bd2",
   "metadata": {
    "scrolled": true
   },
   "outputs": [
    {
     "data": {
      "text/html": [
       "<div>\n",
       "<style scoped>\n",
       "    .dataframe tbody tr th:only-of-type {\n",
       "        vertical-align: middle;\n",
       "    }\n",
       "\n",
       "    .dataframe tbody tr th {\n",
       "        vertical-align: top;\n",
       "    }\n",
       "\n",
       "    .dataframe thead th {\n",
       "        text-align: right;\n",
       "    }\n",
       "</style>\n",
       "<table border=\"1\" class=\"dataframe\">\n",
       "  <thead>\n",
       "    <tr style=\"text-align: right;\">\n",
       "      <th></th>\n",
       "      <th>count</th>\n",
       "      <th>mean</th>\n",
       "      <th>std</th>\n",
       "      <th>min</th>\n",
       "      <th>25%</th>\n",
       "      <th>50%</th>\n",
       "      <th>75%</th>\n",
       "      <th>max</th>\n",
       "    </tr>\n",
       "  </thead>\n",
       "  <tbody>\n",
       "    <tr>\n",
       "      <th>BHK</th>\n",
       "      <td>4746.0</td>\n",
       "      <td>2.083860</td>\n",
       "      <td>0.832256</td>\n",
       "      <td>1.0</td>\n",
       "      <td>2.0</td>\n",
       "      <td>2.0</td>\n",
       "      <td>3.0</td>\n",
       "      <td>6.0</td>\n",
       "    </tr>\n",
       "    <tr>\n",
       "      <th>Rent</th>\n",
       "      <td>4746.0</td>\n",
       "      <td>34993.451327</td>\n",
       "      <td>78106.412937</td>\n",
       "      <td>1200.0</td>\n",
       "      <td>10000.0</td>\n",
       "      <td>16000.0</td>\n",
       "      <td>33000.0</td>\n",
       "      <td>3500000.0</td>\n",
       "    </tr>\n",
       "    <tr>\n",
       "      <th>Size</th>\n",
       "      <td>4746.0</td>\n",
       "      <td>967.490729</td>\n",
       "      <td>634.202328</td>\n",
       "      <td>10.0</td>\n",
       "      <td>550.0</td>\n",
       "      <td>850.0</td>\n",
       "      <td>1200.0</td>\n",
       "      <td>8000.0</td>\n",
       "    </tr>\n",
       "    <tr>\n",
       "      <th>Bathroom</th>\n",
       "      <td>4746.0</td>\n",
       "      <td>1.965866</td>\n",
       "      <td>0.884532</td>\n",
       "      <td>1.0</td>\n",
       "      <td>1.0</td>\n",
       "      <td>2.0</td>\n",
       "      <td>2.0</td>\n",
       "      <td>10.0</td>\n",
       "    </tr>\n",
       "  </tbody>\n",
       "</table>\n",
       "</div>"
      ],
      "text/plain": [
       "           count          mean           std     min      25%      50%  \\\n",
       "BHK       4746.0      2.083860      0.832256     1.0      2.0      2.0   \n",
       "Rent      4746.0  34993.451327  78106.412937  1200.0  10000.0  16000.0   \n",
       "Size      4746.0    967.490729    634.202328    10.0    550.0    850.0   \n",
       "Bathroom  4746.0      1.965866      0.884532     1.0      1.0      2.0   \n",
       "\n",
       "              75%        max  \n",
       "BHK           3.0        6.0  \n",
       "Rent      33000.0  3500000.0  \n",
       "Size       1200.0     8000.0  \n",
       "Bathroom      2.0       10.0  "
      ]
     },
     "execution_count": 8,
     "metadata": {},
     "output_type": "execute_result"
    }
   ],
   "source": [
    "house_rent.describe().T\n"
   ]
  },
  {
   "cell_type": "markdown",
   "id": "c36556f1",
   "metadata": {},
   "source": [
    "size of the dataset"
   ]
  },
  {
   "cell_type": "code",
   "execution_count": 9,
   "id": "fa5df5cc",
   "metadata": {},
   "outputs": [
    {
     "data": {
      "text/plain": [
       "4746"
      ]
     },
     "execution_count": 9,
     "metadata": {},
     "output_type": "execute_result"
    }
   ],
   "source": [
    "len(house_rent)"
   ]
  },
  {
   "cell_type": "code",
   "execution_count": 10,
   "id": "988569fd",
   "metadata": {},
   "outputs": [
    {
     "data": {
      "text/html": [
       "<div>\n",
       "<style scoped>\n",
       "    .dataframe tbody tr th:only-of-type {\n",
       "        vertical-align: middle;\n",
       "    }\n",
       "\n",
       "    .dataframe tbody tr th {\n",
       "        vertical-align: top;\n",
       "    }\n",
       "\n",
       "    .dataframe thead th {\n",
       "        text-align: right;\n",
       "    }\n",
       "</style>\n",
       "<table border=\"1\" class=\"dataframe\">\n",
       "  <thead>\n",
       "    <tr style=\"text-align: right;\">\n",
       "      <th></th>\n",
       "      <th>Posted On</th>\n",
       "      <th>BHK</th>\n",
       "      <th>Rent</th>\n",
       "      <th>Size</th>\n",
       "      <th>Floor</th>\n",
       "      <th>Area Type</th>\n",
       "      <th>Area Locality</th>\n",
       "      <th>City</th>\n",
       "      <th>Furnishing Status</th>\n",
       "      <th>Tenant Preferred</th>\n",
       "      <th>Bathroom</th>\n",
       "      <th>Point of Contact</th>\n",
       "    </tr>\n",
       "  </thead>\n",
       "  <tbody>\n",
       "    <tr>\n",
       "      <th>4741</th>\n",
       "      <td>18-05-2022</td>\n",
       "      <td>2</td>\n",
       "      <td>15000</td>\n",
       "      <td>1000</td>\n",
       "      <td>3 out of 5</td>\n",
       "      <td>Carpet Area</td>\n",
       "      <td>Bandam Kommu</td>\n",
       "      <td>Hyderabad</td>\n",
       "      <td>Semi-Furnished</td>\n",
       "      <td>Bachelors/Family</td>\n",
       "      <td>2</td>\n",
       "      <td>Contact Owner</td>\n",
       "    </tr>\n",
       "    <tr>\n",
       "      <th>4742</th>\n",
       "      <td>15-05-2022</td>\n",
       "      <td>3</td>\n",
       "      <td>29000</td>\n",
       "      <td>2000</td>\n",
       "      <td>1 out of 4</td>\n",
       "      <td>Super Area</td>\n",
       "      <td>Manikonda, Hyderabad</td>\n",
       "      <td>Hyderabad</td>\n",
       "      <td>Semi-Furnished</td>\n",
       "      <td>Bachelors/Family</td>\n",
       "      <td>3</td>\n",
       "      <td>Contact Owner</td>\n",
       "    </tr>\n",
       "    <tr>\n",
       "      <th>4743</th>\n",
       "      <td>10-07-2022</td>\n",
       "      <td>3</td>\n",
       "      <td>35000</td>\n",
       "      <td>1750</td>\n",
       "      <td>3 out of 5</td>\n",
       "      <td>Carpet Area</td>\n",
       "      <td>Himayath Nagar, NH 7</td>\n",
       "      <td>Hyderabad</td>\n",
       "      <td>Semi-Furnished</td>\n",
       "      <td>Bachelors/Family</td>\n",
       "      <td>3</td>\n",
       "      <td>Contact Agent</td>\n",
       "    </tr>\n",
       "    <tr>\n",
       "      <th>4744</th>\n",
       "      <td>06-07-2022</td>\n",
       "      <td>3</td>\n",
       "      <td>45000</td>\n",
       "      <td>1500</td>\n",
       "      <td>23 out of 34</td>\n",
       "      <td>Carpet Area</td>\n",
       "      <td>Gachibowli</td>\n",
       "      <td>Hyderabad</td>\n",
       "      <td>Semi-Furnished</td>\n",
       "      <td>Family</td>\n",
       "      <td>2</td>\n",
       "      <td>Contact Agent</td>\n",
       "    </tr>\n",
       "    <tr>\n",
       "      <th>4745</th>\n",
       "      <td>04-05-2022</td>\n",
       "      <td>2</td>\n",
       "      <td>15000</td>\n",
       "      <td>1000</td>\n",
       "      <td>4 out of 5</td>\n",
       "      <td>Carpet Area</td>\n",
       "      <td>Suchitra Circle</td>\n",
       "      <td>Hyderabad</td>\n",
       "      <td>Unfurnished</td>\n",
       "      <td>Bachelors</td>\n",
       "      <td>2</td>\n",
       "      <td>Contact Owner</td>\n",
       "    </tr>\n",
       "  </tbody>\n",
       "</table>\n",
       "</div>"
      ],
      "text/plain": [
       "       Posted On  BHK   Rent  Size         Floor    Area Type  \\\n",
       "4741  18-05-2022    2  15000  1000    3 out of 5  Carpet Area   \n",
       "4742  15-05-2022    3  29000  2000    1 out of 4   Super Area   \n",
       "4743  10-07-2022    3  35000  1750    3 out of 5  Carpet Area   \n",
       "4744  06-07-2022    3  45000  1500  23 out of 34  Carpet Area   \n",
       "4745  04-05-2022    2  15000  1000    4 out of 5  Carpet Area   \n",
       "\n",
       "             Area Locality       City Furnishing Status  Tenant Preferred  \\\n",
       "4741          Bandam Kommu  Hyderabad    Semi-Furnished  Bachelors/Family   \n",
       "4742  Manikonda, Hyderabad  Hyderabad    Semi-Furnished  Bachelors/Family   \n",
       "4743  Himayath Nagar, NH 7  Hyderabad    Semi-Furnished  Bachelors/Family   \n",
       "4744            Gachibowli  Hyderabad    Semi-Furnished            Family   \n",
       "4745       Suchitra Circle  Hyderabad       Unfurnished         Bachelors   \n",
       "\n",
       "      Bathroom Point of Contact  \n",
       "4741         2    Contact Owner  \n",
       "4742         3    Contact Owner  \n",
       "4743         3    Contact Agent  \n",
       "4744         2    Contact Agent  \n",
       "4745         2    Contact Owner  "
      ]
     },
     "execution_count": 10,
     "metadata": {},
     "output_type": "execute_result"
    }
   ],
   "source": [
    "house_rent.tail()"
   ]
  },
  {
   "cell_type": "code",
   "execution_count": 11,
   "id": "d71db80f",
   "metadata": {
    "scrolled": true
   },
   "outputs": [
    {
     "data": {
      "text/plain": [
       "0       Ground out of 2\n",
       "1            1 out of 3\n",
       "2            1 out of 3\n",
       "3            1 out of 2\n",
       "4            1 out of 2\n",
       "             ...       \n",
       "4741         3 out of 5\n",
       "4742         1 out of 4\n",
       "4743         3 out of 5\n",
       "4744       23 out of 34\n",
       "4745         4 out of 5\n",
       "Name: Floor, Length: 4746, dtype: object"
      ]
     },
     "execution_count": 11,
     "metadata": {},
     "output_type": "execute_result"
    }
   ],
   "source": [
    "Floor=house_rent.Floor\n",
    "Floor"
   ]
  },
  {
   "cell_type": "code",
   "execution_count": 12,
   "id": "46e95703",
   "metadata": {},
   "outputs": [],
   "source": [
    "house_rent.rename(columns={'Posted On': 'date','Tenant Preferred':'Tenant_preferred','Furnishing Status':'Furnishing','Size':'size(sqrt.ft)'},inplace=True)"
   ]
  },
  {
   "cell_type": "code",
   "execution_count": 13,
   "id": "d64fa445",
   "metadata": {},
   "outputs": [],
   "source": [
    "house_rent['date'] = pd.to_datetime(house_rent.date)\n",
    "\n",
    "# categorical variables\n",
    "# ###house_rent['Tenant_preferred'] = house_rent['Tenant_preferred'].astype('category')\n",
    "# ###house_rent['Furnishing'] = house_rent['Furnishing'].astype('category')"
   ]
  },
  {
   "cell_type": "code",
   "execution_count": 14,
   "id": "cad4017e",
   "metadata": {},
   "outputs": [],
   "source": [
    "house_rent['month'] = house_rent['date'].dt.month.astype('category')\n"
   ]
  },
  {
   "cell_type": "code",
   "execution_count": 15,
   "id": "96444fbd",
   "metadata": {},
   "outputs": [],
   "source": [
    "# Let's compute the price sqft.\n",
    "house_rent['price_per_sqft'] = np.round(house_rent['Rent'] / house_rent['size(sqrt.ft)']) \n",
    "house_rent['price_per_sqft'] = np.round(house_rent['Rent'] / house_rent['size(sqrt.ft)'])"
   ]
  },
  {
   "cell_type": "code",
   "execution_count": 16,
   "id": "905d4bb2",
   "metadata": {},
   "outputs": [],
   "source": [
    "class SomeAnalysis:\n",
    "\n",
    "    def __init__(self, data):\n",
    "            self.data = data\n",
    "\n",
    "    def analysis(self):\n",
    "            column_list = self.data.columns.to_list()\n",
    "            print(\"Name of columns::\", column_list)\n",
    "            print()\n",
    "            columns_with_missing_data = self.data.columns[self.data.isnull().any()].tolist()\n",
    "            print(\"Columns with Missing Data::\", columns_with_missing_data)\n",
    "            print()\n",
    "\n",
    "            number_of_duplicates = self.data.duplicated().sum()\n",
    "            print(\"Number of duplicates::\", number_of_duplicates)\n",
    "            print()"
   ]
  },
  {
   "cell_type": "code",
   "execution_count": 17,
   "id": "d6573fbd",
   "metadata": {},
   "outputs": [
    {
     "name": "stdout",
     "output_type": "stream",
     "text": [
      "Name of columns:: ['date', 'BHK', 'Rent', 'size(sqrt.ft)', 'Floor', 'Area Type', 'Area Locality', 'City', 'Furnishing', 'Tenant_preferred', 'Bathroom', 'Point of Contact', 'month', 'price_per_sqft']\n",
      "\n",
      "Columns with Missing Data:: []\n",
      "\n",
      "Number of duplicates:: 0\n",
      "\n"
     ]
    }
   ],
   "source": [
    "obj = SomeAnalysis(house_rent)\n",
    "obj.analysis()"
   ]
  },
  {
   "cell_type": "code",
   "execution_count": 18,
   "id": "441542bc",
   "metadata": {},
   "outputs": [
    {
     "data": {
      "text/html": [
       "<div>\n",
       "<style scoped>\n",
       "    .dataframe tbody tr th:only-of-type {\n",
       "        vertical-align: middle;\n",
       "    }\n",
       "\n",
       "    .dataframe tbody tr th {\n",
       "        vertical-align: top;\n",
       "    }\n",
       "\n",
       "    .dataframe thead th {\n",
       "        text-align: right;\n",
       "    }\n",
       "</style>\n",
       "<table border=\"1\" class=\"dataframe\">\n",
       "  <thead>\n",
       "    <tr style=\"text-align: right;\">\n",
       "      <th></th>\n",
       "      <th>date</th>\n",
       "      <th>BHK</th>\n",
       "      <th>Rent</th>\n",
       "      <th>size(sqrt.ft)</th>\n",
       "      <th>Floor</th>\n",
       "      <th>Area Type</th>\n",
       "      <th>Area Locality</th>\n",
       "      <th>City</th>\n",
       "      <th>Furnishing</th>\n",
       "      <th>Tenant_preferred</th>\n",
       "      <th>Bathroom</th>\n",
       "      <th>Point of Contact</th>\n",
       "      <th>month</th>\n",
       "      <th>price_per_sqft</th>\n",
       "    </tr>\n",
       "  </thead>\n",
       "  <tbody>\n",
       "    <tr>\n",
       "      <th>0</th>\n",
       "      <td>2022-05-18</td>\n",
       "      <td>2</td>\n",
       "      <td>10000</td>\n",
       "      <td>1100</td>\n",
       "      <td>Ground out of 2</td>\n",
       "      <td>Super Area</td>\n",
       "      <td>Bandel</td>\n",
       "      <td>Kolkata</td>\n",
       "      <td>Unfurnished</td>\n",
       "      <td>Bachelors/Family</td>\n",
       "      <td>2</td>\n",
       "      <td>Contact Owner</td>\n",
       "      <td>5</td>\n",
       "      <td>9.0</td>\n",
       "    </tr>\n",
       "    <tr>\n",
       "      <th>1</th>\n",
       "      <td>2022-05-13</td>\n",
       "      <td>2</td>\n",
       "      <td>20000</td>\n",
       "      <td>800</td>\n",
       "      <td>1 out of 3</td>\n",
       "      <td>Super Area</td>\n",
       "      <td>Phool Bagan, Kankurgachi</td>\n",
       "      <td>Kolkata</td>\n",
       "      <td>Semi-Furnished</td>\n",
       "      <td>Bachelors/Family</td>\n",
       "      <td>1</td>\n",
       "      <td>Contact Owner</td>\n",
       "      <td>5</td>\n",
       "      <td>25.0</td>\n",
       "    </tr>\n",
       "    <tr>\n",
       "      <th>2</th>\n",
       "      <td>2022-05-16</td>\n",
       "      <td>2</td>\n",
       "      <td>17000</td>\n",
       "      <td>1000</td>\n",
       "      <td>1 out of 3</td>\n",
       "      <td>Super Area</td>\n",
       "      <td>Salt Lake City Sector 2</td>\n",
       "      <td>Kolkata</td>\n",
       "      <td>Semi-Furnished</td>\n",
       "      <td>Bachelors/Family</td>\n",
       "      <td>1</td>\n",
       "      <td>Contact Owner</td>\n",
       "      <td>5</td>\n",
       "      <td>17.0</td>\n",
       "    </tr>\n",
       "    <tr>\n",
       "      <th>3</th>\n",
       "      <td>2022-04-07</td>\n",
       "      <td>2</td>\n",
       "      <td>10000</td>\n",
       "      <td>800</td>\n",
       "      <td>1 out of 2</td>\n",
       "      <td>Super Area</td>\n",
       "      <td>Dumdum Park</td>\n",
       "      <td>Kolkata</td>\n",
       "      <td>Unfurnished</td>\n",
       "      <td>Bachelors/Family</td>\n",
       "      <td>1</td>\n",
       "      <td>Contact Owner</td>\n",
       "      <td>4</td>\n",
       "      <td>12.0</td>\n",
       "    </tr>\n",
       "    <tr>\n",
       "      <th>4</th>\n",
       "      <td>2022-09-05</td>\n",
       "      <td>2</td>\n",
       "      <td>7500</td>\n",
       "      <td>850</td>\n",
       "      <td>1 out of 2</td>\n",
       "      <td>Carpet Area</td>\n",
       "      <td>South Dum Dum</td>\n",
       "      <td>Kolkata</td>\n",
       "      <td>Unfurnished</td>\n",
       "      <td>Bachelors</td>\n",
       "      <td>1</td>\n",
       "      <td>Contact Owner</td>\n",
       "      <td>9</td>\n",
       "      <td>9.0</td>\n",
       "    </tr>\n",
       "  </tbody>\n",
       "</table>\n",
       "</div>"
      ],
      "text/plain": [
       "        date  BHK   Rent  size(sqrt.ft)            Floor    Area Type  \\\n",
       "0 2022-05-18    2  10000           1100  Ground out of 2   Super Area   \n",
       "1 2022-05-13    2  20000            800       1 out of 3   Super Area   \n",
       "2 2022-05-16    2  17000           1000       1 out of 3   Super Area   \n",
       "3 2022-04-07    2  10000            800       1 out of 2   Super Area   \n",
       "4 2022-09-05    2   7500            850       1 out of 2  Carpet Area   \n",
       "\n",
       "              Area Locality     City      Furnishing  Tenant_preferred  \\\n",
       "0                    Bandel  Kolkata     Unfurnished  Bachelors/Family   \n",
       "1  Phool Bagan, Kankurgachi  Kolkata  Semi-Furnished  Bachelors/Family   \n",
       "2   Salt Lake City Sector 2  Kolkata  Semi-Furnished  Bachelors/Family   \n",
       "3               Dumdum Park  Kolkata     Unfurnished  Bachelors/Family   \n",
       "4             South Dum Dum  Kolkata     Unfurnished         Bachelors   \n",
       "\n",
       "   Bathroom Point of Contact month  price_per_sqft  \n",
       "0         2    Contact Owner     5             9.0  \n",
       "1         1    Contact Owner     5            25.0  \n",
       "2         1    Contact Owner     5            17.0  \n",
       "3         1    Contact Owner     4            12.0  \n",
       "4         1    Contact Owner     9             9.0  "
      ]
     },
     "execution_count": 18,
     "metadata": {},
     "output_type": "execute_result"
    }
   ],
   "source": [
    "house_rent.head()"
   ]
  },
  {
   "cell_type": "code",
   "execution_count": 19,
   "id": "cd775252",
   "metadata": {
    "scrolled": false
   },
   "outputs": [
    {
     "data": {
      "text/plain": [
       "array(['Ground out of 2', '1 out of 3', '1 out of 2', 'Ground out of 1',\n",
       "       'Ground out of 4', '1 out of 4', '1 out of 1', 'Ground out of 3',\n",
       "       '2 out of 3', '4 out of 5', '2 out of 2', '2 out of 5',\n",
       "       '4 out of 14', '3 out of 3', '5 out of 5', '4 out of 4',\n",
       "       '7 out of 8', '2 out of 4', '3 out of 4', '1 out of 5',\n",
       "       '8 out of 5', 'Ground out of 6', '2 out of 1',\n",
       "       'Upper Basement out of 4', 'Ground out of 5', '3 out of 5',\n",
       "       '11 out of 19', '5 out of 10', '11 out of 14',\n",
       "       'Lower Basement out of 2', '2 out of 7', '4 out of 10',\n",
       "       '7 out of 10', '2 out of 13', '6 out of 7', '4 out of 7',\n",
       "       '14 out of 14', '43 out of 78', '2 out of 8', '13 out of 18',\n",
       "       '5 out of 12', '18 out of 24', '3 out of 7', '17 out of 31',\n",
       "       '11 out of 21', '7 out of 19', '14 out of 23', '9 out of 20',\n",
       "       'Upper Basement out of 9', '19 out of 24', '3 out of 21',\n",
       "       '1 out of 22', '8 out of 8', '6 out of 12', '4 out of 58',\n",
       "       'Upper Basement out of 16', '60 out of 66', '34 out of 48',\n",
       "       '5 out of 8', '5 out of 14', '14 out of 40', '5 out of 7',\n",
       "       '9 out of 22', '12 out of 18', '26 out of 44', '1 out of 8',\n",
       "       '25 out of 42', '25 out of 41', '53 out of 78', 'Ground out of 7',\n",
       "       '14 out of 20', '13 out of 20', '16 out of 23', '10 out of 18',\n",
       "       '39 out of 60', '16 out of 21', '10 out of 32', '4 out of 8',\n",
       "       '12 out of 24', '32 out of 41', '3 out of 30', '13 out of 21',\n",
       "       '9 out of 29', '47 out of 89', '7 out of 41', '28 out of 30',\n",
       "       '13 out of 15', '6 out of 21', '8 out of 16', '2 out of 6',\n",
       "       '5 out of 19', '3 out of 11', '17 out of 42', '10 out of 12',\n",
       "       '8 out of 28', '9 out of 15', '14 out of 22', '18 out of 40',\n",
       "       '9 out of 17', '12 out of 45', '25 out of 35', '7 out of 15',\n",
       "       '10 out of 16', 'Upper Basement out of 20', '5 out of 20',\n",
       "       'Upper Basement out of 40', '5 out of 18', '34 out of 58',\n",
       "       '4 out of 6', '20 out of 22', '12 out of 19', '15 out of 18',\n",
       "       '65 out of 78', '6 out of 16', '17 out of 22', '6 out of 24',\n",
       "       '40 out of 75', '19 out of 38', '15 out of 31', '11 out of 28',\n",
       "       '10 out of 22', '17 out of 24', '15 out of 19', '9 out of 10',\n",
       "       '7 out of 12', '8 out of 20', '11 out of 13', '9 out of 19',\n",
       "       '37 out of 51', '6 out of 11', '8 out of 15', '11 out of 20',\n",
       "       '10 out of 23', 'Upper Basement out of 10', '7 out of 23',\n",
       "       '4 out of 11', '17 out of 43', '7 out of 22', '14 out of 18',\n",
       "       '6 out of 10', '8 out of 12', '3 out of 18', '7 out of 7',\n",
       "       '14 out of 58', '18 out of 23', '19 out of 19', '13 out of 14',\n",
       "       '7 out of 11', '11 out of 22', 'Upper Basement out of 30',\n",
       "       '12 out of 14', '16 out of 31', '12 out of 13', '11 out of 51',\n",
       "       '2 out of 12', '22 out of 24', '7 out of 14', '5 out of 13',\n",
       "       '7 out of 21', '14 out of 21', '17 out of 25', '9 out of 14',\n",
       "       '8 out of 27', '3 out of 6', '17 out of 20', '18 out of 22',\n",
       "       '1 out of 7', '9 out of 30', '3 out of 8', '11 out of 26',\n",
       "       '17 out of 27', '4 out of 12', '12 out of 16', '10 out of 24',\n",
       "       '65 out of 76', '7 out of 9', '17 out of 60', '10 out of 11',\n",
       "       '18 out of 25', '5 out of 11', '15 out of 17', '15 out of 23',\n",
       "       '5 out of 17', '3 out of 28', '5 out of 24', '16 out of 32',\n",
       "       '21 out of 22', '7 out of 13', '9 out of 12', '15 out of 32',\n",
       "       '18 out of 27', '15 out of 16', '18 out of 45', '15 out of 15',\n",
       "       '6 out of 14', '1 out of 20', '16 out of 36', '30 out of 44',\n",
       "       '30 out of 37', '2 out of 9', '12 out of 22', '4 out of 9',\n",
       "       '2 out of 22', '5 out of 6', '6 out of 18', '35 out of 55',\n",
       "       '16 out of 29', '30 out of 45', '5 out of 9', '16 out of 25',\n",
       "       '33 out of 42', '4 out of 16', '13 out of 23', '9 out of 38',\n",
       "       '6 out of 8', '8 out of 13', '19 out of 30', '10 out of 14',\n",
       "       '11 out of 24', '9 out of 16', '9 out of 31', '4 out of 15',\n",
       "       '3 out of 9', '22 out of 30', '3 out of 58', '1 out of 9',\n",
       "       '53 out of 60', '5 out of 22', '15 out of 22', '19 out of 21',\n",
       "       '9 out of 40', 'Ground out of 8', '44 out of 75', '8 out of 17',\n",
       "       '3 out of 14', '12 out of 31', '26 out of 42', '2 out of 45',\n",
       "       '12 out of 68', '17 out of 36', '10 out of 28', '41 out of 41',\n",
       "       '14 out of 68', '14 out of 17', '15 out of 20', '46 out of 76',\n",
       "       '12 out of 20', '20 out of 30', '18 out of 32', '10 out of 25',\n",
       "       '17 out of 29', '10 out of 31', '10 out of 15', '13 out of 16',\n",
       "       '8 out of 10', '18 out of 21', '27 out of 58', '1 out of 6',\n",
       "       '19 out of 25', '3 out of 15', '25 out of 43', '8 out of 14',\n",
       "       '11 out of 12', '9 out of 21', '10 out of 13', '45 out of 77',\n",
       "       '18 out of 19', '10 out of 20', '12 out of 29',\n",
       "       'Lower Basement out of 18', '15 out of 24', '48 out of 68',\n",
       "       '12 out of 42', '16 out of 22', '35 out of 68', '18 out of 30',\n",
       "       '11 out of 31', '50 out of 75', '18 out of 26', '12 out of 27',\n",
       "       '16 out of 20', '24 out of 55', '16 out of 37',\n",
       "       'Upper Basement out of 7', '6 out of 15', '11 out of 27',\n",
       "       '11 out of 23', '3 out of 12', '14 out of 15', '23 out of 25',\n",
       "       '14 out of 48', '29 out of 35', '15 out of 36', '15 out of 25',\n",
       "       '15 out of 28', '3 out of 36', '8 out of 11', '6 out of 20',\n",
       "       '23 out of 23', '5 out of 15', '16 out of 18', '2 out of 10',\n",
       "       '40 out of 50', '25 out of 28', '12 out of 17', '34 out of 40',\n",
       "       'Upper Basement out of 22', '8 out of 23', '5 out of 21',\n",
       "       '32 out of 59', '20 out of 32', '9 out of 18', '10 out of 37',\n",
       "       '25 out of 48', '4 out of 22', '8 out of 18', '11 out of 11',\n",
       "       '5 out of 23', '60 out of 77', '11 out of 18', '4 out of 20',\n",
       "       '5 out of 16', '3 out of 13', '30 out of 58', '15 out of 43',\n",
       "       '7 out of 16', '18 out of 28', '9 out of 55', '11 out of 25',\n",
       "       '49 out of 55', '7 out of 27', '14 out of 27', '16 out of 27',\n",
       "       '25 out of 50', '6 out of 30', '21 out of 23', '8 out of 58',\n",
       "       '20 out of 41', '3 out of 62', '4 out of 13', '7 out of 17',\n",
       "       '12 out of 21', '28 out of 39', '15 out of 58', '6 out of 23',\n",
       "       '36 out of 45', '9 out of 28', '6 out of 45', '22 out of 52',\n",
       "       '10 out of 19', '21 out of 58', '48 out of 54', '7 out of 28',\n",
       "       '11 out of 15', '19 out of 22', '15 out of 37', '2 out of 17',\n",
       "       '76 out of 78', '3 out of 10', '20 out of 27', '8 out of 36',\n",
       "       '14 out of 33', '21 out of 21', '12 out of 25', '18 out of 29',\n",
       "       '14 out of 35', '7 out of 20', '20 out of 37', '9 out of 35',\n",
       "       '27 out of 27', '15 out of 60', '19 out of 33', '18 out of 20',\n",
       "       '13 out of 40', '9 out of 11', '8 out of 22', '6 out of 13',\n",
       "       '20 out of 31', '27 out of 45', '19 out of 20', '32 out of 46',\n",
       "       '19 out of 85', '3 out of 23', '34 out of 46', '4 out of 27',\n",
       "       '19 out of 27', '35 out of 60', '21 out of 33', '25 out of 52',\n",
       "       '2 out of 24', '24 out of 24', '18 out of 33', '1 out of 10',\n",
       "       '45 out of 60', '60 out of 71', '36 out of 81', '24 out of 60',\n",
       "       '16 out of 38', '8 out of 45', 'Ground out of 16', '8 out of 32',\n",
       "       '10 out of 10', '23 out of 40', '7 out of 18', '8 out of 19',\n",
       "       '6 out of 17', '16 out of 34', 'Ground out of 12', '6 out of 9',\n",
       "       'Ground out of 18', '20 out of 25', '3 out of 22', '9 out of 32',\n",
       "       '26 out of 32', '17 out of 18', '24 out of 25', '19 out of 26',\n",
       "       '17 out of 19', '1 out of 13', '14 out of 30', '8 out of 9',\n",
       "       '3 out of 17', 'Lower Basement out of 3', '12 out of 23',\n",
       "       'Ground out of 9', '1 out of 24', '1 out of 12', '3', 'Ground',\n",
       "       '15 out of 29', '20 out of 20', '14 out of 29',\n",
       "       'Lower Basement out of 1', '13 out of 17', '1 out of 14',\n",
       "       'Upper Basement out of 2', '2 out of 14', '24 out of 31',\n",
       "       '2 out of 32', '2 out of 16', '9 out of 13', '1 out of 11',\n",
       "       '6 out of 29', '9 out of 9', '28 out of 31', '1 out of 15',\n",
       "       'Ground out of 14', '2 out of 11', '19 out of 31', '1 out of 16',\n",
       "       '25 out of 32', '11 out of 16', '11 out of 17',\n",
       "       'Upper Basement out of 3', '4 out of 24', '1 out of 19',\n",
       "       '7 out of 30', '16 out of 19', 'Upper Basement out of 5',\n",
       "       'Ground out of 13', '2 out of 25', '23 out of 30', '4 out of 30',\n",
       "       '13 out of 25', '23 out of 35', 'Ground out of 10', '5 out of 34',\n",
       "       '20 out of 35', '1', '4 out of 31', '4 out of 26', '24 out of 33',\n",
       "       '4 out of 17', '1 out of 35', '11 out of 35', 'Ground out of 15',\n",
       "       'Ground out of 27', '15 out of 30', '12 out of 30', '23 out of 34'],\n",
       "      dtype=object)"
      ]
     },
     "execution_count": 19,
     "metadata": {},
     "output_type": "execute_result"
    }
   ],
   "source": [
    "house_rent.Floor.unique()"
   ]
  },
  {
   "cell_type": "code",
   "execution_count": 20,
   "id": "7569d217",
   "metadata": {
    "scrolled": true
   },
   "outputs": [
    {
     "data": {
      "text/html": [
       "<div>\n",
       "<style scoped>\n",
       "    .dataframe tbody tr th:only-of-type {\n",
       "        vertical-align: middle;\n",
       "    }\n",
       "\n",
       "    .dataframe tbody tr th {\n",
       "        vertical-align: top;\n",
       "    }\n",
       "\n",
       "    .dataframe thead th {\n",
       "        text-align: right;\n",
       "    }\n",
       "</style>\n",
       "<table border=\"1\" class=\"dataframe\">\n",
       "  <thead>\n",
       "    <tr style=\"text-align: right;\">\n",
       "      <th></th>\n",
       "      <th>0</th>\n",
       "      <th>1</th>\n",
       "      <th>2</th>\n",
       "      <th>3</th>\n",
       "      <th>4</th>\n",
       "    </tr>\n",
       "  </thead>\n",
       "  <tbody>\n",
       "    <tr>\n",
       "      <th>0</th>\n",
       "      <td>Ground</td>\n",
       "      <td>out</td>\n",
       "      <td>of</td>\n",
       "      <td>2</td>\n",
       "      <td>None</td>\n",
       "    </tr>\n",
       "    <tr>\n",
       "      <th>1</th>\n",
       "      <td>1</td>\n",
       "      <td>out</td>\n",
       "      <td>of</td>\n",
       "      <td>3</td>\n",
       "      <td>None</td>\n",
       "    </tr>\n",
       "    <tr>\n",
       "      <th>2</th>\n",
       "      <td>1</td>\n",
       "      <td>out</td>\n",
       "      <td>of</td>\n",
       "      <td>3</td>\n",
       "      <td>None</td>\n",
       "    </tr>\n",
       "    <tr>\n",
       "      <th>3</th>\n",
       "      <td>1</td>\n",
       "      <td>out</td>\n",
       "      <td>of</td>\n",
       "      <td>2</td>\n",
       "      <td>None</td>\n",
       "    </tr>\n",
       "    <tr>\n",
       "      <th>4</th>\n",
       "      <td>1</td>\n",
       "      <td>out</td>\n",
       "      <td>of</td>\n",
       "      <td>2</td>\n",
       "      <td>None</td>\n",
       "    </tr>\n",
       "    <tr>\n",
       "      <th>...</th>\n",
       "      <td>...</td>\n",
       "      <td>...</td>\n",
       "      <td>...</td>\n",
       "      <td>...</td>\n",
       "      <td>...</td>\n",
       "    </tr>\n",
       "    <tr>\n",
       "      <th>4741</th>\n",
       "      <td>3</td>\n",
       "      <td>out</td>\n",
       "      <td>of</td>\n",
       "      <td>5</td>\n",
       "      <td>None</td>\n",
       "    </tr>\n",
       "    <tr>\n",
       "      <th>4742</th>\n",
       "      <td>1</td>\n",
       "      <td>out</td>\n",
       "      <td>of</td>\n",
       "      <td>4</td>\n",
       "      <td>None</td>\n",
       "    </tr>\n",
       "    <tr>\n",
       "      <th>4743</th>\n",
       "      <td>3</td>\n",
       "      <td>out</td>\n",
       "      <td>of</td>\n",
       "      <td>5</td>\n",
       "      <td>None</td>\n",
       "    </tr>\n",
       "    <tr>\n",
       "      <th>4744</th>\n",
       "      <td>23</td>\n",
       "      <td>out</td>\n",
       "      <td>of</td>\n",
       "      <td>34</td>\n",
       "      <td>None</td>\n",
       "    </tr>\n",
       "    <tr>\n",
       "      <th>4745</th>\n",
       "      <td>4</td>\n",
       "      <td>out</td>\n",
       "      <td>of</td>\n",
       "      <td>5</td>\n",
       "      <td>None</td>\n",
       "    </tr>\n",
       "  </tbody>\n",
       "</table>\n",
       "<p>4746 rows × 5 columns</p>\n",
       "</div>"
      ],
      "text/plain": [
       "           0    1   2   3     4\n",
       "0     Ground  out  of   2  None\n",
       "1          1  out  of   3  None\n",
       "2          1  out  of   3  None\n",
       "3          1  out  of   2  None\n",
       "4          1  out  of   2  None\n",
       "...      ...  ...  ..  ..   ...\n",
       "4741       3  out  of   5  None\n",
       "4742       1  out  of   4  None\n",
       "4743       3  out  of   5  None\n",
       "4744      23  out  of  34  None\n",
       "4745       4  out  of   5  None\n",
       "\n",
       "[4746 rows x 5 columns]"
      ]
     },
     "execution_count": 20,
     "metadata": {},
     "output_type": "execute_result"
    }
   ],
   "source": [
    "new= house_rent[\"Floor\"].str.split(\" \", expand = True)\n",
    "new"
   ]
  },
  {
   "cell_type": "code",
   "execution_count": 21,
   "id": "5cbd5bfa",
   "metadata": {
    "scrolled": false
   },
   "outputs": [
    {
     "data": {
      "text/html": [
       "<div>\n",
       "<style scoped>\n",
       "    .dataframe tbody tr th:only-of-type {\n",
       "        vertical-align: middle;\n",
       "    }\n",
       "\n",
       "    .dataframe tbody tr th {\n",
       "        vertical-align: top;\n",
       "    }\n",
       "\n",
       "    .dataframe thead th {\n",
       "        text-align: right;\n",
       "    }\n",
       "</style>\n",
       "<table border=\"1\" class=\"dataframe\">\n",
       "  <thead>\n",
       "    <tr style=\"text-align: right;\">\n",
       "      <th></th>\n",
       "      <th>date</th>\n",
       "      <th>BHK</th>\n",
       "      <th>Rent</th>\n",
       "      <th>size(sqrt.ft)</th>\n",
       "      <th>Floor</th>\n",
       "      <th>Area Type</th>\n",
       "      <th>Area Locality</th>\n",
       "      <th>City</th>\n",
       "      <th>Furnishing</th>\n",
       "      <th>Tenant_preferred</th>\n",
       "      <th>Bathroom</th>\n",
       "      <th>Point of Contact</th>\n",
       "      <th>month</th>\n",
       "      <th>price_per_sqft</th>\n",
       "    </tr>\n",
       "  </thead>\n",
       "  <tbody>\n",
       "    <tr>\n",
       "      <th>0</th>\n",
       "      <td>2022-05-18</td>\n",
       "      <td>2</td>\n",
       "      <td>10000</td>\n",
       "      <td>1100</td>\n",
       "      <td>Ground</td>\n",
       "      <td>Super Area</td>\n",
       "      <td>Bandel</td>\n",
       "      <td>Kolkata</td>\n",
       "      <td>Unfurnished</td>\n",
       "      <td>Bachelors/Family</td>\n",
       "      <td>2</td>\n",
       "      <td>Contact Owner</td>\n",
       "      <td>5</td>\n",
       "      <td>9.0</td>\n",
       "    </tr>\n",
       "    <tr>\n",
       "      <th>1</th>\n",
       "      <td>2022-05-13</td>\n",
       "      <td>2</td>\n",
       "      <td>20000</td>\n",
       "      <td>800</td>\n",
       "      <td>1</td>\n",
       "      <td>Super Area</td>\n",
       "      <td>Phool Bagan, Kankurgachi</td>\n",
       "      <td>Kolkata</td>\n",
       "      <td>Semi-Furnished</td>\n",
       "      <td>Bachelors/Family</td>\n",
       "      <td>1</td>\n",
       "      <td>Contact Owner</td>\n",
       "      <td>5</td>\n",
       "      <td>25.0</td>\n",
       "    </tr>\n",
       "    <tr>\n",
       "      <th>2</th>\n",
       "      <td>2022-05-16</td>\n",
       "      <td>2</td>\n",
       "      <td>17000</td>\n",
       "      <td>1000</td>\n",
       "      <td>1</td>\n",
       "      <td>Super Area</td>\n",
       "      <td>Salt Lake City Sector 2</td>\n",
       "      <td>Kolkata</td>\n",
       "      <td>Semi-Furnished</td>\n",
       "      <td>Bachelors/Family</td>\n",
       "      <td>1</td>\n",
       "      <td>Contact Owner</td>\n",
       "      <td>5</td>\n",
       "      <td>17.0</td>\n",
       "    </tr>\n",
       "    <tr>\n",
       "      <th>3</th>\n",
       "      <td>2022-04-07</td>\n",
       "      <td>2</td>\n",
       "      <td>10000</td>\n",
       "      <td>800</td>\n",
       "      <td>1</td>\n",
       "      <td>Super Area</td>\n",
       "      <td>Dumdum Park</td>\n",
       "      <td>Kolkata</td>\n",
       "      <td>Unfurnished</td>\n",
       "      <td>Bachelors/Family</td>\n",
       "      <td>1</td>\n",
       "      <td>Contact Owner</td>\n",
       "      <td>4</td>\n",
       "      <td>12.0</td>\n",
       "    </tr>\n",
       "    <tr>\n",
       "      <th>4</th>\n",
       "      <td>2022-09-05</td>\n",
       "      <td>2</td>\n",
       "      <td>7500</td>\n",
       "      <td>850</td>\n",
       "      <td>1</td>\n",
       "      <td>Carpet Area</td>\n",
       "      <td>South Dum Dum</td>\n",
       "      <td>Kolkata</td>\n",
       "      <td>Unfurnished</td>\n",
       "      <td>Bachelors</td>\n",
       "      <td>1</td>\n",
       "      <td>Contact Owner</td>\n",
       "      <td>9</td>\n",
       "      <td>9.0</td>\n",
       "    </tr>\n",
       "    <tr>\n",
       "      <th>...</th>\n",
       "      <td>...</td>\n",
       "      <td>...</td>\n",
       "      <td>...</td>\n",
       "      <td>...</td>\n",
       "      <td>...</td>\n",
       "      <td>...</td>\n",
       "      <td>...</td>\n",
       "      <td>...</td>\n",
       "      <td>...</td>\n",
       "      <td>...</td>\n",
       "      <td>...</td>\n",
       "      <td>...</td>\n",
       "      <td>...</td>\n",
       "      <td>...</td>\n",
       "    </tr>\n",
       "    <tr>\n",
       "      <th>4741</th>\n",
       "      <td>2022-05-18</td>\n",
       "      <td>2</td>\n",
       "      <td>15000</td>\n",
       "      <td>1000</td>\n",
       "      <td>3</td>\n",
       "      <td>Carpet Area</td>\n",
       "      <td>Bandam Kommu</td>\n",
       "      <td>Hyderabad</td>\n",
       "      <td>Semi-Furnished</td>\n",
       "      <td>Bachelors/Family</td>\n",
       "      <td>2</td>\n",
       "      <td>Contact Owner</td>\n",
       "      <td>5</td>\n",
       "      <td>15.0</td>\n",
       "    </tr>\n",
       "    <tr>\n",
       "      <th>4742</th>\n",
       "      <td>2022-05-15</td>\n",
       "      <td>3</td>\n",
       "      <td>29000</td>\n",
       "      <td>2000</td>\n",
       "      <td>1</td>\n",
       "      <td>Super Area</td>\n",
       "      <td>Manikonda, Hyderabad</td>\n",
       "      <td>Hyderabad</td>\n",
       "      <td>Semi-Furnished</td>\n",
       "      <td>Bachelors/Family</td>\n",
       "      <td>3</td>\n",
       "      <td>Contact Owner</td>\n",
       "      <td>5</td>\n",
       "      <td>14.0</td>\n",
       "    </tr>\n",
       "    <tr>\n",
       "      <th>4743</th>\n",
       "      <td>2022-10-07</td>\n",
       "      <td>3</td>\n",
       "      <td>35000</td>\n",
       "      <td>1750</td>\n",
       "      <td>3</td>\n",
       "      <td>Carpet Area</td>\n",
       "      <td>Himayath Nagar, NH 7</td>\n",
       "      <td>Hyderabad</td>\n",
       "      <td>Semi-Furnished</td>\n",
       "      <td>Bachelors/Family</td>\n",
       "      <td>3</td>\n",
       "      <td>Contact Agent</td>\n",
       "      <td>10</td>\n",
       "      <td>20.0</td>\n",
       "    </tr>\n",
       "    <tr>\n",
       "      <th>4744</th>\n",
       "      <td>2022-06-07</td>\n",
       "      <td>3</td>\n",
       "      <td>45000</td>\n",
       "      <td>1500</td>\n",
       "      <td>23</td>\n",
       "      <td>Carpet Area</td>\n",
       "      <td>Gachibowli</td>\n",
       "      <td>Hyderabad</td>\n",
       "      <td>Semi-Furnished</td>\n",
       "      <td>Family</td>\n",
       "      <td>2</td>\n",
       "      <td>Contact Agent</td>\n",
       "      <td>6</td>\n",
       "      <td>30.0</td>\n",
       "    </tr>\n",
       "    <tr>\n",
       "      <th>4745</th>\n",
       "      <td>2022-04-05</td>\n",
       "      <td>2</td>\n",
       "      <td>15000</td>\n",
       "      <td>1000</td>\n",
       "      <td>4</td>\n",
       "      <td>Carpet Area</td>\n",
       "      <td>Suchitra Circle</td>\n",
       "      <td>Hyderabad</td>\n",
       "      <td>Unfurnished</td>\n",
       "      <td>Bachelors</td>\n",
       "      <td>2</td>\n",
       "      <td>Contact Owner</td>\n",
       "      <td>4</td>\n",
       "      <td>15.0</td>\n",
       "    </tr>\n",
       "  </tbody>\n",
       "</table>\n",
       "<p>4746 rows × 14 columns</p>\n",
       "</div>"
      ],
      "text/plain": [
       "           date  BHK   Rent  size(sqrt.ft)   Floor    Area Type  \\\n",
       "0    2022-05-18    2  10000           1100  Ground   Super Area   \n",
       "1    2022-05-13    2  20000            800       1   Super Area   \n",
       "2    2022-05-16    2  17000           1000       1   Super Area   \n",
       "3    2022-04-07    2  10000            800       1   Super Area   \n",
       "4    2022-09-05    2   7500            850       1  Carpet Area   \n",
       "...         ...  ...    ...            ...     ...          ...   \n",
       "4741 2022-05-18    2  15000           1000       3  Carpet Area   \n",
       "4742 2022-05-15    3  29000           2000       1   Super Area   \n",
       "4743 2022-10-07    3  35000           1750       3  Carpet Area   \n",
       "4744 2022-06-07    3  45000           1500      23  Carpet Area   \n",
       "4745 2022-04-05    2  15000           1000       4  Carpet Area   \n",
       "\n",
       "                 Area Locality       City      Furnishing  Tenant_preferred  \\\n",
       "0                       Bandel    Kolkata     Unfurnished  Bachelors/Family   \n",
       "1     Phool Bagan, Kankurgachi    Kolkata  Semi-Furnished  Bachelors/Family   \n",
       "2      Salt Lake City Sector 2    Kolkata  Semi-Furnished  Bachelors/Family   \n",
       "3                  Dumdum Park    Kolkata     Unfurnished  Bachelors/Family   \n",
       "4                South Dum Dum    Kolkata     Unfurnished         Bachelors   \n",
       "...                        ...        ...             ...               ...   \n",
       "4741              Bandam Kommu  Hyderabad  Semi-Furnished  Bachelors/Family   \n",
       "4742      Manikonda, Hyderabad  Hyderabad  Semi-Furnished  Bachelors/Family   \n",
       "4743      Himayath Nagar, NH 7  Hyderabad  Semi-Furnished  Bachelors/Family   \n",
       "4744                Gachibowli  Hyderabad  Semi-Furnished            Family   \n",
       "4745           Suchitra Circle  Hyderabad     Unfurnished         Bachelors   \n",
       "\n",
       "      Bathroom Point of Contact month  price_per_sqft  \n",
       "0            2    Contact Owner     5             9.0  \n",
       "1            1    Contact Owner     5            25.0  \n",
       "2            1    Contact Owner     5            17.0  \n",
       "3            1    Contact Owner     4            12.0  \n",
       "4            1    Contact Owner     9             9.0  \n",
       "...        ...              ...   ...             ...  \n",
       "4741         2    Contact Owner     5            15.0  \n",
       "4742         3    Contact Owner     5            14.0  \n",
       "4743         3    Contact Agent    10            20.0  \n",
       "4744         2    Contact Agent     6            30.0  \n",
       "4745         2    Contact Owner     4            15.0  \n",
       "\n",
       "[4746 rows x 14 columns]"
      ]
     },
     "execution_count": 21,
     "metadata": {},
     "output_type": "execute_result"
    }
   ],
   "source": [
    "house_rent[\"Floor\"]= new[0]\n",
    "house_rent"
   ]
  },
  {
   "cell_type": "code",
   "execution_count": 22,
   "id": "1eb5817b",
   "metadata": {
    "scrolled": true
   },
   "outputs": [
    {
     "data": {
      "text/plain": [
       "array(['Ground', '1', '2', '4', '3', '5', '7', '8', 'Upper', '11',\n",
       "       'Lower', '6', '14', '43', '13', '18', '17', '9', '19', '60', '34',\n",
       "       '12', '26', '25', '53', '16', '10', '39', '32', '47', '28', '20',\n",
       "       '15', '65', '40', '37', '22', '21', '30', '35', '33', '44', '41',\n",
       "       '46', '27', '45', '48', '50', '24', '23', '29', '49', '36', '76'],\n",
       "      dtype=object)"
      ]
     },
     "execution_count": 22,
     "metadata": {},
     "output_type": "execute_result"
    }
   ],
   "source": [
    "house_rent.Floor.unique()"
   ]
  },
  {
   "cell_type": "code",
   "execution_count": 23,
   "id": "fef7b619",
   "metadata": {},
   "outputs": [],
   "source": [
    "house_rent=house_rent.replace(to_replace=\"Ground\",value=\"0\")\n",
    "house_rent=house_rent.replace(to_replace=[\"Upper\",\"Lower\"],value=\"1\")\n"
   ]
  },
  {
   "cell_type": "code",
   "execution_count": 24,
   "id": "4b2e5c95",
   "metadata": {
    "scrolled": true
   },
   "outputs": [
    {
     "data": {
      "text/html": [
       "<div>\n",
       "<style scoped>\n",
       "    .dataframe tbody tr th:only-of-type {\n",
       "        vertical-align: middle;\n",
       "    }\n",
       "\n",
       "    .dataframe tbody tr th {\n",
       "        vertical-align: top;\n",
       "    }\n",
       "\n",
       "    .dataframe thead th {\n",
       "        text-align: right;\n",
       "    }\n",
       "</style>\n",
       "<table border=\"1\" class=\"dataframe\">\n",
       "  <thead>\n",
       "    <tr style=\"text-align: right;\">\n",
       "      <th></th>\n",
       "      <th>date</th>\n",
       "      <th>BHK</th>\n",
       "      <th>Rent</th>\n",
       "      <th>size(sqrt.ft)</th>\n",
       "      <th>Floor</th>\n",
       "      <th>Area Type</th>\n",
       "      <th>Area Locality</th>\n",
       "      <th>City</th>\n",
       "      <th>Furnishing</th>\n",
       "      <th>Tenant_preferred</th>\n",
       "      <th>Bathroom</th>\n",
       "      <th>Point of Contact</th>\n",
       "      <th>month</th>\n",
       "      <th>price_per_sqft</th>\n",
       "    </tr>\n",
       "  </thead>\n",
       "  <tbody>\n",
       "    <tr>\n",
       "      <th>0</th>\n",
       "      <td>2022-05-18</td>\n",
       "      <td>2</td>\n",
       "      <td>10000</td>\n",
       "      <td>1100</td>\n",
       "      <td>0</td>\n",
       "      <td>Super Area</td>\n",
       "      <td>Bandel</td>\n",
       "      <td>Kolkata</td>\n",
       "      <td>Unfurnished</td>\n",
       "      <td>Bachelors/Family</td>\n",
       "      <td>2</td>\n",
       "      <td>Contact Owner</td>\n",
       "      <td>5</td>\n",
       "      <td>9.0</td>\n",
       "    </tr>\n",
       "    <tr>\n",
       "      <th>1</th>\n",
       "      <td>2022-05-13</td>\n",
       "      <td>2</td>\n",
       "      <td>20000</td>\n",
       "      <td>800</td>\n",
       "      <td>1</td>\n",
       "      <td>Super Area</td>\n",
       "      <td>Phool Bagan, Kankurgachi</td>\n",
       "      <td>Kolkata</td>\n",
       "      <td>Semi-Furnished</td>\n",
       "      <td>Bachelors/Family</td>\n",
       "      <td>1</td>\n",
       "      <td>Contact Owner</td>\n",
       "      <td>5</td>\n",
       "      <td>25.0</td>\n",
       "    </tr>\n",
       "    <tr>\n",
       "      <th>2</th>\n",
       "      <td>2022-05-16</td>\n",
       "      <td>2</td>\n",
       "      <td>17000</td>\n",
       "      <td>1000</td>\n",
       "      <td>1</td>\n",
       "      <td>Super Area</td>\n",
       "      <td>Salt Lake City Sector 2</td>\n",
       "      <td>Kolkata</td>\n",
       "      <td>Semi-Furnished</td>\n",
       "      <td>Bachelors/Family</td>\n",
       "      <td>1</td>\n",
       "      <td>Contact Owner</td>\n",
       "      <td>5</td>\n",
       "      <td>17.0</td>\n",
       "    </tr>\n",
       "    <tr>\n",
       "      <th>3</th>\n",
       "      <td>2022-04-07</td>\n",
       "      <td>2</td>\n",
       "      <td>10000</td>\n",
       "      <td>800</td>\n",
       "      <td>1</td>\n",
       "      <td>Super Area</td>\n",
       "      <td>Dumdum Park</td>\n",
       "      <td>Kolkata</td>\n",
       "      <td>Unfurnished</td>\n",
       "      <td>Bachelors/Family</td>\n",
       "      <td>1</td>\n",
       "      <td>Contact Owner</td>\n",
       "      <td>4</td>\n",
       "      <td>12.0</td>\n",
       "    </tr>\n",
       "    <tr>\n",
       "      <th>4</th>\n",
       "      <td>2022-09-05</td>\n",
       "      <td>2</td>\n",
       "      <td>7500</td>\n",
       "      <td>850</td>\n",
       "      <td>1</td>\n",
       "      <td>Carpet Area</td>\n",
       "      <td>South Dum Dum</td>\n",
       "      <td>Kolkata</td>\n",
       "      <td>Unfurnished</td>\n",
       "      <td>Bachelors</td>\n",
       "      <td>1</td>\n",
       "      <td>Contact Owner</td>\n",
       "      <td>9</td>\n",
       "      <td>9.0</td>\n",
       "    </tr>\n",
       "    <tr>\n",
       "      <th>...</th>\n",
       "      <td>...</td>\n",
       "      <td>...</td>\n",
       "      <td>...</td>\n",
       "      <td>...</td>\n",
       "      <td>...</td>\n",
       "      <td>...</td>\n",
       "      <td>...</td>\n",
       "      <td>...</td>\n",
       "      <td>...</td>\n",
       "      <td>...</td>\n",
       "      <td>...</td>\n",
       "      <td>...</td>\n",
       "      <td>...</td>\n",
       "      <td>...</td>\n",
       "    </tr>\n",
       "    <tr>\n",
       "      <th>4741</th>\n",
       "      <td>2022-05-18</td>\n",
       "      <td>2</td>\n",
       "      <td>15000</td>\n",
       "      <td>1000</td>\n",
       "      <td>3</td>\n",
       "      <td>Carpet Area</td>\n",
       "      <td>Bandam Kommu</td>\n",
       "      <td>Hyderabad</td>\n",
       "      <td>Semi-Furnished</td>\n",
       "      <td>Bachelors/Family</td>\n",
       "      <td>2</td>\n",
       "      <td>Contact Owner</td>\n",
       "      <td>5</td>\n",
       "      <td>15.0</td>\n",
       "    </tr>\n",
       "    <tr>\n",
       "      <th>4742</th>\n",
       "      <td>2022-05-15</td>\n",
       "      <td>3</td>\n",
       "      <td>29000</td>\n",
       "      <td>2000</td>\n",
       "      <td>1</td>\n",
       "      <td>Super Area</td>\n",
       "      <td>Manikonda, Hyderabad</td>\n",
       "      <td>Hyderabad</td>\n",
       "      <td>Semi-Furnished</td>\n",
       "      <td>Bachelors/Family</td>\n",
       "      <td>3</td>\n",
       "      <td>Contact Owner</td>\n",
       "      <td>5</td>\n",
       "      <td>14.0</td>\n",
       "    </tr>\n",
       "    <tr>\n",
       "      <th>4743</th>\n",
       "      <td>2022-10-07</td>\n",
       "      <td>3</td>\n",
       "      <td>35000</td>\n",
       "      <td>1750</td>\n",
       "      <td>3</td>\n",
       "      <td>Carpet Area</td>\n",
       "      <td>Himayath Nagar, NH 7</td>\n",
       "      <td>Hyderabad</td>\n",
       "      <td>Semi-Furnished</td>\n",
       "      <td>Bachelors/Family</td>\n",
       "      <td>3</td>\n",
       "      <td>Contact Agent</td>\n",
       "      <td>10</td>\n",
       "      <td>20.0</td>\n",
       "    </tr>\n",
       "    <tr>\n",
       "      <th>4744</th>\n",
       "      <td>2022-06-07</td>\n",
       "      <td>3</td>\n",
       "      <td>45000</td>\n",
       "      <td>1500</td>\n",
       "      <td>23</td>\n",
       "      <td>Carpet Area</td>\n",
       "      <td>Gachibowli</td>\n",
       "      <td>Hyderabad</td>\n",
       "      <td>Semi-Furnished</td>\n",
       "      <td>Family</td>\n",
       "      <td>2</td>\n",
       "      <td>Contact Agent</td>\n",
       "      <td>6</td>\n",
       "      <td>30.0</td>\n",
       "    </tr>\n",
       "    <tr>\n",
       "      <th>4745</th>\n",
       "      <td>2022-04-05</td>\n",
       "      <td>2</td>\n",
       "      <td>15000</td>\n",
       "      <td>1000</td>\n",
       "      <td>4</td>\n",
       "      <td>Carpet Area</td>\n",
       "      <td>Suchitra Circle</td>\n",
       "      <td>Hyderabad</td>\n",
       "      <td>Unfurnished</td>\n",
       "      <td>Bachelors</td>\n",
       "      <td>2</td>\n",
       "      <td>Contact Owner</td>\n",
       "      <td>4</td>\n",
       "      <td>15.0</td>\n",
       "    </tr>\n",
       "  </tbody>\n",
       "</table>\n",
       "<p>4746 rows × 14 columns</p>\n",
       "</div>"
      ],
      "text/plain": [
       "           date  BHK   Rent  size(sqrt.ft) Floor    Area Type  \\\n",
       "0    2022-05-18    2  10000           1100     0   Super Area   \n",
       "1    2022-05-13    2  20000            800     1   Super Area   \n",
       "2    2022-05-16    2  17000           1000     1   Super Area   \n",
       "3    2022-04-07    2  10000            800     1   Super Area   \n",
       "4    2022-09-05    2   7500            850     1  Carpet Area   \n",
       "...         ...  ...    ...            ...   ...          ...   \n",
       "4741 2022-05-18    2  15000           1000     3  Carpet Area   \n",
       "4742 2022-05-15    3  29000           2000     1   Super Area   \n",
       "4743 2022-10-07    3  35000           1750     3  Carpet Area   \n",
       "4744 2022-06-07    3  45000           1500    23  Carpet Area   \n",
       "4745 2022-04-05    2  15000           1000     4  Carpet Area   \n",
       "\n",
       "                 Area Locality       City      Furnishing  Tenant_preferred  \\\n",
       "0                       Bandel    Kolkata     Unfurnished  Bachelors/Family   \n",
       "1     Phool Bagan, Kankurgachi    Kolkata  Semi-Furnished  Bachelors/Family   \n",
       "2      Salt Lake City Sector 2    Kolkata  Semi-Furnished  Bachelors/Family   \n",
       "3                  Dumdum Park    Kolkata     Unfurnished  Bachelors/Family   \n",
       "4                South Dum Dum    Kolkata     Unfurnished         Bachelors   \n",
       "...                        ...        ...             ...               ...   \n",
       "4741              Bandam Kommu  Hyderabad  Semi-Furnished  Bachelors/Family   \n",
       "4742      Manikonda, Hyderabad  Hyderabad  Semi-Furnished  Bachelors/Family   \n",
       "4743      Himayath Nagar, NH 7  Hyderabad  Semi-Furnished  Bachelors/Family   \n",
       "4744                Gachibowli  Hyderabad  Semi-Furnished            Family   \n",
       "4745           Suchitra Circle  Hyderabad     Unfurnished         Bachelors   \n",
       "\n",
       "      Bathroom Point of Contact month  price_per_sqft  \n",
       "0            2    Contact Owner     5             9.0  \n",
       "1            1    Contact Owner     5            25.0  \n",
       "2            1    Contact Owner     5            17.0  \n",
       "3            1    Contact Owner     4            12.0  \n",
       "4            1    Contact Owner     9             9.0  \n",
       "...        ...              ...   ...             ...  \n",
       "4741         2    Contact Owner     5            15.0  \n",
       "4742         3    Contact Owner     5            14.0  \n",
       "4743         3    Contact Agent    10            20.0  \n",
       "4744         2    Contact Agent     6            30.0  \n",
       "4745         2    Contact Owner     4            15.0  \n",
       "\n",
       "[4746 rows x 14 columns]"
      ]
     },
     "execution_count": 24,
     "metadata": {},
     "output_type": "execute_result"
    }
   ],
   "source": [
    "house_rent"
   ]
  },
  {
   "cell_type": "code",
   "execution_count": 25,
   "id": "0f7fa232",
   "metadata": {
    "scrolled": true
   },
   "outputs": [
    {
     "data": {
      "text/plain": [
       "date                0\n",
       "BHK                 0\n",
       "Rent                0\n",
       "size(sqrt.ft)       0\n",
       "Floor               0\n",
       "Area Type           0\n",
       "Area Locality       0\n",
       "City                0\n",
       "Furnishing          0\n",
       "Tenant_preferred    0\n",
       "Bathroom            0\n",
       "Point of Contact    0\n",
       "month               0\n",
       "price_per_sqft      0\n",
       "dtype: int64"
      ]
     },
     "execution_count": 25,
     "metadata": {},
     "output_type": "execute_result"
    }
   ],
   "source": [
    "house_rent.isnull().sum()"
   ]
  },
  {
   "cell_type": "code",
   "execution_count": 26,
   "id": "43a173c6",
   "metadata": {},
   "outputs": [],
   "source": [
    "house_rent['Floor'] = house_rent['Floor'].astype('int')\n"
   ]
  },
  {
   "cell_type": "code",
   "execution_count": 27,
   "id": "ae2bba75",
   "metadata": {
    "scrolled": true
   },
   "outputs": [
    {
     "name": "stdout",
     "output_type": "stream",
     "text": [
      "<class 'pandas.core.frame.DataFrame'>\n",
      "RangeIndex: 4746 entries, 0 to 4745\n",
      "Data columns (total 14 columns):\n",
      " #   Column            Non-Null Count  Dtype         \n",
      "---  ------            --------------  -----         \n",
      " 0   date              4746 non-null   datetime64[ns]\n",
      " 1   BHK               4746 non-null   int64         \n",
      " 2   Rent              4746 non-null   int64         \n",
      " 3   size(sqrt.ft)     4746 non-null   int64         \n",
      " 4   Floor             4746 non-null   int32         \n",
      " 5   Area Type         4746 non-null   object        \n",
      " 6   Area Locality     4746 non-null   object        \n",
      " 7   City              4746 non-null   object        \n",
      " 8   Furnishing        4746 non-null   object        \n",
      " 9   Tenant_preferred  4746 non-null   object        \n",
      " 10  Bathroom          4746 non-null   int64         \n",
      " 11  Point of Contact  4746 non-null   object        \n",
      " 12  month             4746 non-null   category      \n",
      " 13  price_per_sqft    4746 non-null   float64       \n",
      "dtypes: category(1), datetime64[ns](1), float64(1), int32(1), int64(4), object(6)\n",
      "memory usage: 468.6+ KB\n"
     ]
    }
   ],
   "source": [
    "house_rent.info()"
   ]
  },
  {
   "cell_type": "code",
   "execution_count": 28,
   "id": "2dcacad7",
   "metadata": {},
   "outputs": [],
   "source": [
    "house_rent['date']=house_rent['date'].dt.strftime('%d-%m-%Y')"
   ]
  },
  {
   "cell_type": "code",
   "execution_count": 29,
   "id": "baae2ba5",
   "metadata": {},
   "outputs": [
    {
     "name": "stdout",
     "output_type": "stream",
     "text": [
      "<class 'pandas.core.frame.DataFrame'>\n",
      "RangeIndex: 4746 entries, 0 to 4745\n",
      "Data columns (total 14 columns):\n",
      " #   Column            Non-Null Count  Dtype   \n",
      "---  ------            --------------  -----   \n",
      " 0   date              4746 non-null   object  \n",
      " 1   BHK               4746 non-null   int64   \n",
      " 2   Rent              4746 non-null   int64   \n",
      " 3   size(sqrt.ft)     4746 non-null   int64   \n",
      " 4   Floor             4746 non-null   int32   \n",
      " 5   Area Type         4746 non-null   object  \n",
      " 6   Area Locality     4746 non-null   object  \n",
      " 7   City              4746 non-null   object  \n",
      " 8   Furnishing        4746 non-null   object  \n",
      " 9   Tenant_preferred  4746 non-null   object  \n",
      " 10  Bathroom          4746 non-null   int64   \n",
      " 11  Point of Contact  4746 non-null   object  \n",
      " 12  month             4746 non-null   category\n",
      " 13  price_per_sqft    4746 non-null   float64 \n",
      "dtypes: category(1), float64(1), int32(1), int64(4), object(7)\n",
      "memory usage: 468.6+ KB\n"
     ]
    }
   ],
   "source": [
    "house_rent.info()"
   ]
  },
  {
   "cell_type": "code",
   "execution_count": 30,
   "id": "1378fe4f",
   "metadata": {
    "scrolled": true
   },
   "outputs": [
    {
     "data": {
      "image/png": "[encoded data removed]",
      "text/plain": [
       "<Figure size 432x288 with 1 Axes>"
      ]
     },
     "metadata": {
      "needs_background": "light"
     },
     "output_type": "display_data"
    }
   ],
   "source": [
    "sns.histplot(data=house_rent[['size(sqrt.ft)']],x='size(sqrt.ft)', bins=20, kde='True')\n",
    "plt.title(\"Distribution of size\")\n",
    "plt.xlabel(\"Size(in sqft)\")\n",
    "plt.show()"
   ]
  },
  {
   "cell_type": "markdown",
   "id": "57068545",
   "metadata": {},
   "source": [
    "Distribustion of size is right skewed"
   ]
  },
  {
   "cell_type": "code",
   "execution_count": 31,
   "id": "d9806986",
   "metadata": {},
   "outputs": [
    {
     "data": {
      "image/png": "[encoded data removed]",
      "text/plain": [
       "<Figure size 1440x576 with 1 Axes>"
      ]
     },
     "metadata": {
      "needs_background": "light"
     },
     "output_type": "display_data"
    }
   ],
   "source": [
    "# Distribution of RENT.\n",
    "plt.figure(figsize=(20,8))\n",
    "sns.histplot(data=house_rent[['Rent']], x='Rent', bins=30, kde='True')\n",
    "plt.title(\"Distribution of Rent of house\")\n",
    "plt.xlabel(\"Rent\")\n",
    "plt.show()"
   ]
  },
  {
   "cell_type": "markdown",
   "id": "abee37a1",
   "metadata": {},
   "source": [
    "** the distribution of Rent house is right skewed that is house rent is high."
   ]
  },
  {
   "cell_type": "code",
   "execution_count": 32,
   "id": "0fcc2e97",
   "metadata": {},
   "outputs": [
    {
     "data": {
      "image/png": "[encoded data removed]",
      "text/plain": [
       "<Figure size 432x288 with 6 Axes>"
      ]
     },
     "metadata": {
      "needs_background": "light"
     },
     "output_type": "display_data"
    }
   ],
   "source": [
    "# Distribution of all numeric columns.\n",
    "numeric_columns = house_rent.select_dtypes(include='int').columns.tolist()\n",
    "house_rent[numeric_columns].hist(xlabelsize=10,bins=20)\n",
    "plt.tight_layout(rect=(1, 0, 2, 1.2))\n"
   ]
  },
  {
   "cell_type": "code",
   "execution_count": 33,
   "id": "440de691",
   "metadata": {},
   "outputs": [
    {
     "data": {
      "image/png": "[encoded data removed]",
      "text/plain": [
       "<Figure size 432x288 with 2 Axes>"
      ]
     },
     "metadata": {
      "needs_background": "light"
     },
     "output_type": "display_data"
    }
   ],
   "source": [
    "corr = house_rent.corr()\n",
    "sns.heatmap(round(corr, 2), annot=True, linewidth=0.5,cmap='viridis')\n",
    "plt.title(\"House Rent Correlation Heatmap\")\n",
    "plt.show()"
   ]
  },
  {
   "cell_type": "markdown",
   "id": "96a2ef87",
   "metadata": {},
   "source": [
    "\n",
    "size(sqrt.ft) and bathroom have high correlation among all."
   ]
  },
  {
   "cell_type": "code",
   "execution_count": 34,
   "id": "70b76150",
   "metadata": {},
   "outputs": [
    {
     "data": {
      "image/png": "[encoded data removed]",
      "text/plain": [
       "<Figure size 432x288 with 1 Axes>"
      ]
     },
     "metadata": {
      "needs_background": "light"
     },
     "output_type": "display_data"
    }
   ],
   "source": [
    "# Visualizing the price of house based on size.\n",
    "sns.scatterplot(x='size(sqrt.ft)', y='Rent',\n",
    "             data=house_rent)\n",
    "\n",
    "plt.xlabel(\"Size\")\n",
    "plt.ylabel(\"Rent\")\n",
    "plt.title(\"House Rent based on size of house\")\n",
    "plt.show()"
   ]
  },
  {
   "cell_type": "code",
   "execution_count": 35,
   "id": "af57f562",
   "metadata": {
    "scrolled": true
   },
   "outputs": [
    {
     "data": {
      "text/plain": [
       "<AxesSubplot:xlabel='City', ylabel='Rent'>"
      ]
     },
     "execution_count": 35,
     "metadata": {},
     "output_type": "execute_result"
    },
    {
     "data": {
      "image/png": "[encoded data removed]",
      "text/plain": [
       "<Figure size 2000x1000 with 1 Axes>"
      ]
     },
     "metadata": {
      "needs_background": "light"
     },
     "output_type": "display_data"
    }
   ],
   "source": [
    "plt.figure(figsize=(20,10),dpi=100)\n",
    "\n",
    "sns.barplot(data= house_rent,y='Rent',x='City',hue='Area Type', palette ='Dark2',edgecolor='black',linewidth=3)"
   ]
  },
  {
   "cell_type": "code",
   "execution_count": 36,
   "id": "6e7159f1",
   "metadata": {
    "scrolled": true
   },
   "outputs": [
    {
     "data": {
      "image/png": "[encoded data removed]",
      "text/plain": [
       "<Figure size 432x288 with 1 Axes>"
      ]
     },
     "metadata": {
      "needs_background": "light"
     },
     "output_type": "display_data"
    }
   ],
   "source": [
    "# Let's visualize the Rent of houses is affected by BHK .( Data prepration.)\n",
    "\n",
    "Rent_BHk = house_rent.groupby(by=['BHK'])['Rent'].apply(np.mean).reset_index()\n",
    "\n",
    "sns.barplot(data=Rent_BHk, x='BHK', y='Rent')\n",
    "\n",
    "plt.title(\"Average House Rents based on BHK\")\n",
    "plt.xlabel(\"BHK\")\n",
    "plt.ylabel(\"Rent\")\n",
    "plt.show()"
   ]
  },
  {
   "cell_type": "markdown",
   "id": "146cade1",
   "metadata": {},
   "source": [
    "Rent of 5 BHK is high"
   ]
  },
  {
   "cell_type": "code",
   "execution_count": 37,
   "id": "3db260a7",
   "metadata": {},
   "outputs": [
    {
     "data": {
      "image/png": "[encoded data removed]",
      "text/plain": [
       "<Figure size 432x288 with 1 Axes>"
      ]
     },
     "metadata": {
      "needs_background": "light"
     },
     "output_type": "display_data"
    }
   ],
   "source": [
    "# Let's visualize the Rent of houses is affected by City .( Data prepration.)\n",
    "\n",
    "Rent_City = house_rent.groupby(by=['City'])['Rent'].apply(np.mean).reset_index()\n",
    "\n",
    "sns.barplot(data=Rent_City , x='City', y='Rent')\n",
    "\n",
    "plt.title(\"Average House Rents based on City\")\n",
    "plt.xlabel('City')\n",
    "plt.ylabel(\"Rent\")\n",
    "plt.show()"
   ]
  },
  {
   "cell_type": "markdown",
   "id": "f235a29a",
   "metadata": {},
   "source": [
    "In Mumbai there is high rent Houses"
   ]
  },
  {
   "cell_type": "code",
   "execution_count": 38,
   "id": "66f3c157",
   "metadata": {
    "scrolled": true
   },
   "outputs": [
    {
     "data": {
      "text/plain": [
       "<seaborn.axisgrid.PairGrid at 0x20f4abf93a0>"
      ]
     },
     "execution_count": 38,
     "metadata": {},
     "output_type": "execute_result"
    },
    {
     "data": {
      "image/png": "[encoded data removed]",
      "text/plain": [
       "<Figure size 864x864 with 42 Axes>"
      ]
     },
     "metadata": {
      "needs_background": "light"
     },
     "output_type": "display_data"
    }
   ],
   "source": [
    "# plt.figure(figsize=(10,8),dpi=150)\n",
    "# sns.pairplot(data=house_rent,hue='BHK',diag_kind='hist',corner=True)\n",
    "\n",
    "sns.pairplot(house_rent, height=2)"
   ]
  },
  {
   "cell_type": "code",
   "execution_count": 39,
   "id": "449d3bee",
   "metadata": {},
   "outputs": [
    {
     "data": {
      "text/html": [
       "<div>\n",
       "<style scoped>\n",
       "    .dataframe tbody tr th:only-of-type {\n",
       "        vertical-align: middle;\n",
       "    }\n",
       "\n",
       "    .dataframe tbody tr th {\n",
       "        vertical-align: top;\n",
       "    }\n",
       "\n",
       "    .dataframe thead th {\n",
       "        text-align: right;\n",
       "    }\n",
       "</style>\n",
       "<table border=\"1\" class=\"dataframe\">\n",
       "  <thead>\n",
       "    <tr style=\"text-align: right;\">\n",
       "      <th></th>\n",
       "      <th>date</th>\n",
       "      <th>BHK</th>\n",
       "      <th>Rent</th>\n",
       "      <th>size(sqrt.ft)</th>\n",
       "      <th>Floor</th>\n",
       "      <th>Area Type</th>\n",
       "      <th>Area Locality</th>\n",
       "      <th>City</th>\n",
       "      <th>Furnishing</th>\n",
       "      <th>Tenant_preferred</th>\n",
       "      <th>Bathroom</th>\n",
       "      <th>Point of Contact</th>\n",
       "      <th>month</th>\n",
       "      <th>price_per_sqft</th>\n",
       "    </tr>\n",
       "  </thead>\n",
       "  <tbody>\n",
       "    <tr>\n",
       "      <th>1837</th>\n",
       "      <td>06-08-2022</td>\n",
       "      <td>3</td>\n",
       "      <td>3500000</td>\n",
       "      <td>2500</td>\n",
       "      <td>4</td>\n",
       "      <td>Carpet Area</td>\n",
       "      <td>Marathahalli</td>\n",
       "      <td>Bangalore</td>\n",
       "      <td>Semi-Furnished</td>\n",
       "      <td>Bachelors</td>\n",
       "      <td>3</td>\n",
       "      <td>Contact Agent</td>\n",
       "      <td>8</td>\n",
       "      <td>1400.0</td>\n",
       "    </tr>\n",
       "  </tbody>\n",
       "</table>\n",
       "</div>"
      ],
      "text/plain": [
       "            date  BHK     Rent  size(sqrt.ft)  Floor    Area Type  \\\n",
       "1837  06-08-2022    3  3500000           2500      4  Carpet Area   \n",
       "\n",
       "     Area Locality       City      Furnishing Tenant_preferred  Bathroom  \\\n",
       "1837  Marathahalli  Bangalore  Semi-Furnished        Bachelors         3   \n",
       "\n",
       "     Point of Contact month  price_per_sqft  \n",
       "1837    Contact Agent     8          1400.0  "
      ]
     },
     "execution_count": 39,
     "metadata": {},
     "output_type": "execute_result"
    }
   ],
   "source": [
    "# Let's find the number of houses with highest rents.\n",
    "house_rent.loc[house_rent.Rent == house_rent.Rent.max()]"
   ]
  },
  {
   "cell_type": "code",
   "execution_count": 40,
   "id": "529ed6a4",
   "metadata": {},
   "outputs": [],
   "source": [
    "# There is only single house with rent 3500000. Therefore remove it.\n",
    "house_rent = house_rent.loc[house_rent.Rent != house_rent.Rent.max()]"
   ]
  },
  {
   "cell_type": "code",
   "execution_count": 41,
   "id": "19dd1b3b",
   "metadata": {},
   "outputs": [
    {
     "data": {
      "text/html": [
       "<div>\n",
       "<style scoped>\n",
       "    .dataframe tbody tr th:only-of-type {\n",
       "        vertical-align: middle;\n",
       "    }\n",
       "\n",
       "    .dataframe tbody tr th {\n",
       "        vertical-align: top;\n",
       "    }\n",
       "\n",
       "    .dataframe thead th {\n",
       "        text-align: right;\n",
       "    }\n",
       "</style>\n",
       "<table border=\"1\" class=\"dataframe\">\n",
       "  <thead>\n",
       "    <tr style=\"text-align: right;\">\n",
       "      <th></th>\n",
       "      <th>date</th>\n",
       "      <th>BHK</th>\n",
       "      <th>Rent</th>\n",
       "      <th>size(sqrt.ft)</th>\n",
       "      <th>Floor</th>\n",
       "      <th>Area Type</th>\n",
       "      <th>Area Locality</th>\n",
       "      <th>City</th>\n",
       "      <th>Furnishing</th>\n",
       "      <th>Tenant_preferred</th>\n",
       "      <th>Bathroom</th>\n",
       "      <th>Point of Contact</th>\n",
       "      <th>month</th>\n",
       "      <th>price_per_sqft</th>\n",
       "    </tr>\n",
       "  </thead>\n",
       "  <tbody>\n",
       "    <tr>\n",
       "      <th>104</th>\n",
       "      <td>16-06-2022</td>\n",
       "      <td>2</td>\n",
       "      <td>180000</td>\n",
       "      <td>950</td>\n",
       "      <td>0</td>\n",
       "      <td>Carpet Area</td>\n",
       "      <td>Avenue S, Santoshpur</td>\n",
       "      <td>Kolkata</td>\n",
       "      <td>Unfurnished</td>\n",
       "      <td>Bachelors/Family</td>\n",
       "      <td>2</td>\n",
       "      <td>Contact Owner</td>\n",
       "      <td>6</td>\n",
       "      <td>189.0</td>\n",
       "    </tr>\n",
       "    <tr>\n",
       "      <th>530</th>\n",
       "      <td>20-06-2022</td>\n",
       "      <td>2</td>\n",
       "      <td>160000</td>\n",
       "      <td>800</td>\n",
       "      <td>14</td>\n",
       "      <td>Carpet Area</td>\n",
       "      <td>parivar safalya chs</td>\n",
       "      <td>Mumbai</td>\n",
       "      <td>Unfurnished</td>\n",
       "      <td>Bachelors/Family</td>\n",
       "      <td>2</td>\n",
       "      <td>Contact Owner</td>\n",
       "      <td>6</td>\n",
       "      <td>200.0</td>\n",
       "    </tr>\n",
       "    <tr>\n",
       "      <th>531</th>\n",
       "      <td>07-07-2022</td>\n",
       "      <td>4</td>\n",
       "      <td>300000</td>\n",
       "      <td>1600</td>\n",
       "      <td>43</td>\n",
       "      <td>Carpet Area</td>\n",
       "      <td>Trump Tower, Worli</td>\n",
       "      <td>Mumbai</td>\n",
       "      <td>Semi-Furnished</td>\n",
       "      <td>Bachelors/Family</td>\n",
       "      <td>5</td>\n",
       "      <td>Contact Agent</td>\n",
       "      <td>7</td>\n",
       "      <td>188.0</td>\n",
       "    </tr>\n",
       "    <tr>\n",
       "      <th>533</th>\n",
       "      <td>07-07-2022</td>\n",
       "      <td>4</td>\n",
       "      <td>130000</td>\n",
       "      <td>1650</td>\n",
       "      <td>13</td>\n",
       "      <td>Carpet Area</td>\n",
       "      <td>Ajmera Bhakti Park, Bhakti Park</td>\n",
       "      <td>Mumbai</td>\n",
       "      <td>Semi-Furnished</td>\n",
       "      <td>Bachelors/Family</td>\n",
       "      <td>4</td>\n",
       "      <td>Contact Agent</td>\n",
       "      <td>7</td>\n",
       "      <td>79.0</td>\n",
       "    </tr>\n",
       "    <tr>\n",
       "      <th>542</th>\n",
       "      <td>21-06-2022</td>\n",
       "      <td>3</td>\n",
       "      <td>270000</td>\n",
       "      <td>1800</td>\n",
       "      <td>3</td>\n",
       "      <td>Carpet Area</td>\n",
       "      <td>Bandra West</td>\n",
       "      <td>Mumbai</td>\n",
       "      <td>Semi-Furnished</td>\n",
       "      <td>Bachelors/Family</td>\n",
       "      <td>4</td>\n",
       "      <td>Contact Agent</td>\n",
       "      <td>6</td>\n",
       "      <td>150.0</td>\n",
       "    </tr>\n",
       "    <tr>\n",
       "      <th>...</th>\n",
       "      <td>...</td>\n",
       "      <td>...</td>\n",
       "      <td>...</td>\n",
       "      <td>...</td>\n",
       "      <td>...</td>\n",
       "      <td>...</td>\n",
       "      <td>...</td>\n",
       "      <td>...</td>\n",
       "      <td>...</td>\n",
       "      <td>...</td>\n",
       "      <td>...</td>\n",
       "      <td>...</td>\n",
       "      <td>...</td>\n",
       "      <td>...</td>\n",
       "    </tr>\n",
       "    <tr>\n",
       "      <th>4425</th>\n",
       "      <td>07-10-2022</td>\n",
       "      <td>4</td>\n",
       "      <td>120000</td>\n",
       "      <td>3455</td>\n",
       "      <td>12</td>\n",
       "      <td>Super Area</td>\n",
       "      <td>Madhapur</td>\n",
       "      <td>Hyderabad</td>\n",
       "      <td>Semi-Furnished</td>\n",
       "      <td>Family</td>\n",
       "      <td>4</td>\n",
       "      <td>Contact Agent</td>\n",
       "      <td>10</td>\n",
       "      <td>35.0</td>\n",
       "    </tr>\n",
       "    <tr>\n",
       "      <th>4457</th>\n",
       "      <td>07-06-2022</td>\n",
       "      <td>4</td>\n",
       "      <td>400000</td>\n",
       "      <td>7000</td>\n",
       "      <td>1</td>\n",
       "      <td>Carpet Area</td>\n",
       "      <td>Jubilee Hills</td>\n",
       "      <td>Hyderabad</td>\n",
       "      <td>Semi-Furnished</td>\n",
       "      <td>Bachelors/Family</td>\n",
       "      <td>6</td>\n",
       "      <td>Contact Agent</td>\n",
       "      <td>6</td>\n",
       "      <td>57.0</td>\n",
       "    </tr>\n",
       "    <tr>\n",
       "      <th>4543</th>\n",
       "      <td>06-11-2022</td>\n",
       "      <td>4</td>\n",
       "      <td>200000</td>\n",
       "      <td>4761</td>\n",
       "      <td>1</td>\n",
       "      <td>Carpet Area</td>\n",
       "      <td>K P H B Phase 4</td>\n",
       "      <td>Hyderabad</td>\n",
       "      <td>Semi-Furnished</td>\n",
       "      <td>Bachelors</td>\n",
       "      <td>6</td>\n",
       "      <td>Contact Owner</td>\n",
       "      <td>11</td>\n",
       "      <td>42.0</td>\n",
       "    </tr>\n",
       "    <tr>\n",
       "      <th>4669</th>\n",
       "      <td>07-06-2022</td>\n",
       "      <td>4</td>\n",
       "      <td>140000</td>\n",
       "      <td>3789</td>\n",
       "      <td>9</td>\n",
       "      <td>Carpet Area</td>\n",
       "      <td>Gachibowli CUC, Outer Ring Road</td>\n",
       "      <td>Hyderabad</td>\n",
       "      <td>Semi-Furnished</td>\n",
       "      <td>Family</td>\n",
       "      <td>5</td>\n",
       "      <td>Contact Agent</td>\n",
       "      <td>6</td>\n",
       "      <td>37.0</td>\n",
       "    </tr>\n",
       "    <tr>\n",
       "      <th>4716</th>\n",
       "      <td>29-04-2022</td>\n",
       "      <td>4</td>\n",
       "      <td>110000</td>\n",
       "      <td>3250</td>\n",
       "      <td>12</td>\n",
       "      <td>Carpet Area</td>\n",
       "      <td>Madhapur</td>\n",
       "      <td>Hyderabad</td>\n",
       "      <td>Semi-Furnished</td>\n",
       "      <td>Bachelors/Family</td>\n",
       "      <td>5</td>\n",
       "      <td>Contact Owner</td>\n",
       "      <td>4</td>\n",
       "      <td>34.0</td>\n",
       "    </tr>\n",
       "  </tbody>\n",
       "</table>\n",
       "<p>279 rows × 14 columns</p>\n",
       "</div>"
      ],
      "text/plain": [
       "            date  BHK    Rent  size(sqrt.ft)  Floor    Area Type  \\\n",
       "104   16-06-2022    2  180000            950      0  Carpet Area   \n",
       "530   20-06-2022    2  160000            800     14  Carpet Area   \n",
       "531   07-07-2022    4  300000           1600     43  Carpet Area   \n",
       "533   07-07-2022    4  130000           1650     13  Carpet Area   \n",
       "542   21-06-2022    3  270000           1800      3  Carpet Area   \n",
       "...          ...  ...     ...            ...    ...          ...   \n",
       "4425  07-10-2022    4  120000           3455     12   Super Area   \n",
       "4457  07-06-2022    4  400000           7000      1  Carpet Area   \n",
       "4543  06-11-2022    4  200000           4761      1  Carpet Area   \n",
       "4669  07-06-2022    4  140000           3789      9  Carpet Area   \n",
       "4716  29-04-2022    4  110000           3250     12  Carpet Area   \n",
       "\n",
       "                        Area Locality       City      Furnishing  \\\n",
       "104              Avenue S, Santoshpur    Kolkata     Unfurnished   \n",
       "530               parivar safalya chs     Mumbai     Unfurnished   \n",
       "531                Trump Tower, Worli     Mumbai  Semi-Furnished   \n",
       "533   Ajmera Bhakti Park, Bhakti Park     Mumbai  Semi-Furnished   \n",
       "542                       Bandra West     Mumbai  Semi-Furnished   \n",
       "...                               ...        ...             ...   \n",
       "4425                         Madhapur  Hyderabad  Semi-Furnished   \n",
       "4457                    Jubilee Hills  Hyderabad  Semi-Furnished   \n",
       "4543                  K P H B Phase 4  Hyderabad  Semi-Furnished   \n",
       "4669  Gachibowli CUC, Outer Ring Road  Hyderabad  Semi-Furnished   \n",
       "4716                         Madhapur  Hyderabad  Semi-Furnished   \n",
       "\n",
       "      Tenant_preferred  Bathroom Point of Contact month  price_per_sqft  \n",
       "104   Bachelors/Family         2    Contact Owner     6           189.0  \n",
       "530   Bachelors/Family         2    Contact Owner     6           200.0  \n",
       "531   Bachelors/Family         5    Contact Agent     7           188.0  \n",
       "533   Bachelors/Family         4    Contact Agent     7            79.0  \n",
       "542   Bachelors/Family         4    Contact Agent     6           150.0  \n",
       "...                ...       ...              ...   ...             ...  \n",
       "4425            Family         4    Contact Agent    10            35.0  \n",
       "4457  Bachelors/Family         6    Contact Agent     6            57.0  \n",
       "4543         Bachelors         6    Contact Owner    11            42.0  \n",
       "4669            Family         5    Contact Agent     6            37.0  \n",
       "4716  Bachelors/Family         5    Contact Owner     4            34.0  \n",
       "\n",
       "[279 rows x 14 columns]"
      ]
     },
     "execution_count": 41,
     "metadata": {},
     "output_type": "execute_result"
    }
   ],
   "source": [
    "house_rent[house_rent['Rent']>100000]"
   ]
  },
  {
   "cell_type": "code",
   "execution_count": 42,
   "id": "c13cc888",
   "metadata": {},
   "outputs": [
    {
     "data": {
      "text/html": [
       "<div>\n",
       "<style scoped>\n",
       "    .dataframe tbody tr th:only-of-type {\n",
       "        vertical-align: middle;\n",
       "    }\n",
       "\n",
       "    .dataframe tbody tr th {\n",
       "        vertical-align: top;\n",
       "    }\n",
       "\n",
       "    .dataframe thead th {\n",
       "        text-align: right;\n",
       "    }\n",
       "</style>\n",
       "<table border=\"1\" class=\"dataframe\">\n",
       "  <thead>\n",
       "    <tr style=\"text-align: right;\">\n",
       "      <th></th>\n",
       "      <th>BHK</th>\n",
       "      <th>Rent</th>\n",
       "      <th>size(sqrt.ft)</th>\n",
       "      <th>Floor</th>\n",
       "      <th>Bathroom</th>\n",
       "      <th>price_per_sqft</th>\n",
       "    </tr>\n",
       "  </thead>\n",
       "  <tbody>\n",
       "    <tr>\n",
       "      <th>BHK</th>\n",
       "      <td>1.000000</td>\n",
       "      <td>0.469925</td>\n",
       "      <td>0.716117</td>\n",
       "      <td>0.224119</td>\n",
       "      <td>0.794830</td>\n",
       "      <td>0.140296</td>\n",
       "    </tr>\n",
       "    <tr>\n",
       "      <th>Rent</th>\n",
       "      <td>0.469925</td>\n",
       "      <td>1.000000</td>\n",
       "      <td>0.511398</td>\n",
       "      <td>0.427224</td>\n",
       "      <td>0.562577</td>\n",
       "      <td>0.469470</td>\n",
       "    </tr>\n",
       "    <tr>\n",
       "      <th>size(sqrt.ft)</th>\n",
       "      <td>0.716117</td>\n",
       "      <td>0.511398</td>\n",
       "      <td>1.000000</td>\n",
       "      <td>0.170833</td>\n",
       "      <td>0.740670</td>\n",
       "      <td>-0.095636</td>\n",
       "    </tr>\n",
       "    <tr>\n",
       "      <th>Floor</th>\n",
       "      <td>0.224119</td>\n",
       "      <td>0.427224</td>\n",
       "      <td>0.170833</td>\n",
       "      <td>1.000000</td>\n",
       "      <td>0.331504</td>\n",
       "      <td>0.269451</td>\n",
       "    </tr>\n",
       "    <tr>\n",
       "      <th>Bathroom</th>\n",
       "      <td>0.794830</td>\n",
       "      <td>0.562577</td>\n",
       "      <td>0.740670</td>\n",
       "      <td>0.331504</td>\n",
       "      <td>1.000000</td>\n",
       "      <td>0.201323</td>\n",
       "    </tr>\n",
       "    <tr>\n",
       "      <th>price_per_sqft</th>\n",
       "      <td>0.140296</td>\n",
       "      <td>0.469470</td>\n",
       "      <td>-0.095636</td>\n",
       "      <td>0.269451</td>\n",
       "      <td>0.201323</td>\n",
       "      <td>1.000000</td>\n",
       "    </tr>\n",
       "  </tbody>\n",
       "</table>\n",
       "</div>"
      ],
      "text/plain": [
       "                     BHK      Rent  size(sqrt.ft)     Floor  Bathroom  \\\n",
       "BHK             1.000000  0.469925       0.716117  0.224119  0.794830   \n",
       "Rent            0.469925  1.000000       0.511398  0.427224  0.562577   \n",
       "size(sqrt.ft)   0.716117  0.511398       1.000000  0.170833  0.740670   \n",
       "Floor           0.224119  0.427224       0.170833  1.000000  0.331504   \n",
       "Bathroom        0.794830  0.562577       0.740670  0.331504  1.000000   \n",
       "price_per_sqft  0.140296  0.469470      -0.095636  0.269451  0.201323   \n",
       "\n",
       "                price_per_sqft  \n",
       "BHK                   0.140296  \n",
       "Rent                  0.469470  \n",
       "size(sqrt.ft)        -0.095636  \n",
       "Floor                 0.269451  \n",
       "Bathroom              0.201323  \n",
       "price_per_sqft        1.000000  "
      ]
     },
     "execution_count": 42,
     "metadata": {},
     "output_type": "execute_result"
    }
   ],
   "source": [
    "house_rent.corr()"
   ]
  },
  {
   "cell_type": "code",
   "execution_count": 43,
   "id": "88933f33",
   "metadata": {},
   "outputs": [
    {
     "data": {
      "text/plain": [
       "15000      275\n",
       "10000      248\n",
       "12000      238\n",
       "20000      175\n",
       "8000       162\n",
       "          ... \n",
       "94000        1\n",
       "9400         1\n",
       "500000       1\n",
       "1200000      1\n",
       "5800         1\n",
       "Name: Rent, Length: 242, dtype: int64"
      ]
     },
     "execution_count": 43,
     "metadata": {},
     "output_type": "execute_result"
    }
   ],
   "source": [
    "house_rent['Rent'].value_counts()"
   ]
  },
  {
   "cell_type": "code",
   "execution_count": 44,
   "id": "bad12b95",
   "metadata": {},
   "outputs": [
    {
     "data": {
      "text/plain": [
       "1     1195\n",
       "2      945\n",
       "0      927\n",
       "3      512\n",
       "4      271\n",
       "5      164\n",
       "6       93\n",
       "7       74\n",
       "10      67\n",
       "8       66\n",
       "9       65\n",
       "12      47\n",
       "11      43\n",
       "15      41\n",
       "14      34\n",
       "18      26\n",
       "17      22\n",
       "16      21\n",
       "19      16\n",
       "13      15\n",
       "20      12\n",
       "25      12\n",
       "23       9\n",
       "24       6\n",
       "21       6\n",
       "30       5\n",
       "34       4\n",
       "28       4\n",
       "35       3\n",
       "27       3\n",
       "22       3\n",
       "32       3\n",
       "26       3\n",
       "65       3\n",
       "60       3\n",
       "45       2\n",
       "36       2\n",
       "48       2\n",
       "40       2\n",
       "53       2\n",
       "44       1\n",
       "41       1\n",
       "46       1\n",
       "37       1\n",
       "33       1\n",
       "50       1\n",
       "39       1\n",
       "43       1\n",
       "29       1\n",
       "49       1\n",
       "47       1\n",
       "76       1\n",
       "Name: Floor, dtype: int64"
      ]
     },
     "execution_count": 44,
     "metadata": {},
     "output_type": "execute_result"
    }
   ],
   "source": [
    "house_rent['Floor'].value_counts()"
   ]
  },
  {
   "cell_type": "code",
   "execution_count": 45,
   "id": "71afa6b2",
   "metadata": {},
   "outputs": [
    {
     "data": {
      "text/plain": [
       "2    2265\n",
       "1    1167\n",
       "3    1097\n",
       "4     189\n",
       "5      19\n",
       "6       8\n",
       "Name: BHK, dtype: int64"
      ]
     },
     "execution_count": 45,
     "metadata": {},
     "output_type": "execute_result"
    }
   ],
   "source": [
    "house_rent['BHK'].value_counts()"
   ]
  },
  {
   "cell_type": "code",
   "execution_count": 46,
   "id": "364cf841",
   "metadata": {},
   "outputs": [
    {
     "data": {
      "text/html": [
       "<div>\n",
       "<style scoped>\n",
       "    .dataframe tbody tr th:only-of-type {\n",
       "        vertical-align: middle;\n",
       "    }\n",
       "\n",
       "    .dataframe tbody tr th {\n",
       "        vertical-align: top;\n",
       "    }\n",
       "\n",
       "    .dataframe thead th {\n",
       "        text-align: right;\n",
       "    }\n",
       "</style>\n",
       "<table border=\"1\" class=\"dataframe\">\n",
       "  <thead>\n",
       "    <tr style=\"text-align: right;\">\n",
       "      <th></th>\n",
       "      <th>date</th>\n",
       "      <th>BHK</th>\n",
       "      <th>Rent</th>\n",
       "      <th>size(sqrt.ft)</th>\n",
       "      <th>Floor</th>\n",
       "      <th>Area Type</th>\n",
       "      <th>Area Locality</th>\n",
       "      <th>City</th>\n",
       "      <th>Furnishing</th>\n",
       "      <th>Tenant_preferred</th>\n",
       "      <th>Bathroom</th>\n",
       "      <th>Point of Contact</th>\n",
       "      <th>month</th>\n",
       "      <th>price_per_sqft</th>\n",
       "    </tr>\n",
       "  </thead>\n",
       "  <tbody>\n",
       "    <tr>\n",
       "      <th>1001</th>\n",
       "      <td>06-01-2022</td>\n",
       "      <td>4</td>\n",
       "      <td>1200000</td>\n",
       "      <td>5000</td>\n",
       "      <td>4</td>\n",
       "      <td>Carpet Area</td>\n",
       "      <td>Juhu</td>\n",
       "      <td>Mumbai</td>\n",
       "      <td>Semi-Furnished</td>\n",
       "      <td>Bachelors/Family</td>\n",
       "      <td>4</td>\n",
       "      <td>Contact Agent</td>\n",
       "      <td>1</td>\n",
       "      <td>240.0</td>\n",
       "    </tr>\n",
       "    <tr>\n",
       "      <th>827</th>\n",
       "      <td>18-05-2022</td>\n",
       "      <td>4</td>\n",
       "      <td>1000000</td>\n",
       "      <td>3064</td>\n",
       "      <td>18</td>\n",
       "      <td>Carpet Area</td>\n",
       "      <td>Raheja Artesia, Worli</td>\n",
       "      <td>Mumbai</td>\n",
       "      <td>Semi-Furnished</td>\n",
       "      <td>Family</td>\n",
       "      <td>4</td>\n",
       "      <td>Contact Agent</td>\n",
       "      <td>5</td>\n",
       "      <td>326.0</td>\n",
       "    </tr>\n",
       "    <tr>\n",
       "      <th>1329</th>\n",
       "      <td>23-06-2022</td>\n",
       "      <td>4</td>\n",
       "      <td>850000</td>\n",
       "      <td>3200</td>\n",
       "      <td>2</td>\n",
       "      <td>Carpet Area</td>\n",
       "      <td>Breach Candy</td>\n",
       "      <td>Mumbai</td>\n",
       "      <td>Furnished</td>\n",
       "      <td>Bachelors/Family</td>\n",
       "      <td>4</td>\n",
       "      <td>Contact Agent</td>\n",
       "      <td>6</td>\n",
       "      <td>266.0</td>\n",
       "    </tr>\n",
       "    <tr>\n",
       "      <th>1459</th>\n",
       "      <td>27-06-2022</td>\n",
       "      <td>4</td>\n",
       "      <td>700000</td>\n",
       "      <td>3200</td>\n",
       "      <td>24</td>\n",
       "      <td>Carpet Area</td>\n",
       "      <td>Lady Ratan Tower, Worli</td>\n",
       "      <td>Mumbai</td>\n",
       "      <td>Furnished</td>\n",
       "      <td>Bachelors/Family</td>\n",
       "      <td>4</td>\n",
       "      <td>Contact Agent</td>\n",
       "      <td>6</td>\n",
       "      <td>219.0</td>\n",
       "    </tr>\n",
       "  </tbody>\n",
       "</table>\n",
       "</div>"
      ],
      "text/plain": [
       "            date  BHK     Rent  size(sqrt.ft)  Floor    Area Type  \\\n",
       "1001  06-01-2022    4  1200000           5000      4  Carpet Area   \n",
       "827   18-05-2022    4  1000000           3064     18  Carpet Area   \n",
       "1329  23-06-2022    4   850000           3200      2  Carpet Area   \n",
       "1459  27-06-2022    4   700000           3200     24  Carpet Area   \n",
       "\n",
       "                Area Locality    City      Furnishing  Tenant_preferred  \\\n",
       "1001                     Juhu  Mumbai  Semi-Furnished  Bachelors/Family   \n",
       "827     Raheja Artesia, Worli  Mumbai  Semi-Furnished            Family   \n",
       "1329             Breach Candy  Mumbai       Furnished  Bachelors/Family   \n",
       "1459  Lady Ratan Tower, Worli  Mumbai       Furnished  Bachelors/Family   \n",
       "\n",
       "      Bathroom Point of Contact month  price_per_sqft  \n",
       "1001         4    Contact Agent     1           240.0  \n",
       "827          4    Contact Agent     5           326.0  \n",
       "1329         4    Contact Agent     6           266.0  \n",
       "1459         4    Contact Agent     6           219.0  "
      ]
     },
     "execution_count": 46,
     "metadata": {},
     "output_type": "execute_result"
    }
   ],
   "source": [
    "house_rent.nlargest(4,'Rent')"
   ]
  },
  {
   "cell_type": "code",
   "execution_count": 47,
   "id": "f09f1fe3",
   "metadata": {},
   "outputs": [
    {
     "data": {
      "text/html": [
       "<div>\n",
       "<style scoped>\n",
       "    .dataframe tbody tr th:only-of-type {\n",
       "        vertical-align: middle;\n",
       "    }\n",
       "\n",
       "    .dataframe tbody tr th {\n",
       "        vertical-align: top;\n",
       "    }\n",
       "\n",
       "    .dataframe thead th {\n",
       "        text-align: right;\n",
       "    }\n",
       "</style>\n",
       "<table border=\"1\" class=\"dataframe\">\n",
       "  <thead>\n",
       "    <tr style=\"text-align: right;\">\n",
       "      <th></th>\n",
       "      <th></th>\n",
       "      <th>size(sqrt.ft)</th>\n",
       "      <th>Floor</th>\n",
       "      <th>Bathroom</th>\n",
       "      <th>price_per_sqft</th>\n",
       "    </tr>\n",
       "    <tr>\n",
       "      <th>BHK</th>\n",
       "      <th>Rent</th>\n",
       "      <th></th>\n",
       "      <th></th>\n",
       "      <th></th>\n",
       "      <th></th>\n",
       "    </tr>\n",
       "  </thead>\n",
       "  <tbody>\n",
       "    <tr>\n",
       "      <th rowspan=\"5\" valign=\"top\">1</th>\n",
       "      <th>1500</th>\n",
       "      <td>200.00</td>\n",
       "      <td>0.0</td>\n",
       "      <td>1.0</td>\n",
       "      <td>8.000</td>\n",
       "    </tr>\n",
       "    <tr>\n",
       "      <th>1800</th>\n",
       "      <td>500.00</td>\n",
       "      <td>0.0</td>\n",
       "      <td>1.0</td>\n",
       "      <td>4.000</td>\n",
       "    </tr>\n",
       "    <tr>\n",
       "      <th>2200</th>\n",
       "      <td>700.00</td>\n",
       "      <td>1.0</td>\n",
       "      <td>1.0</td>\n",
       "      <td>3.000</td>\n",
       "    </tr>\n",
       "    <tr>\n",
       "      <th>3000</th>\n",
       "      <td>261.25</td>\n",
       "      <td>0.5</td>\n",
       "      <td>1.0</td>\n",
       "      <td>16.875</td>\n",
       "    </tr>\n",
       "    <tr>\n",
       "      <th>3200</th>\n",
       "      <td>220.00</td>\n",
       "      <td>3.0</td>\n",
       "      <td>1.0</td>\n",
       "      <td>15.000</td>\n",
       "    </tr>\n",
       "    <tr>\n",
       "      <th>...</th>\n",
       "      <th>...</th>\n",
       "      <td>...</td>\n",
       "      <td>...</td>\n",
       "      <td>...</td>\n",
       "      <td>...</td>\n",
       "    </tr>\n",
       "    <tr>\n",
       "      <th rowspan=\"5\" valign=\"top\">6</th>\n",
       "      <th>30000</th>\n",
       "      <td>4200.00</td>\n",
       "      <td>0.0</td>\n",
       "      <td>5.0</td>\n",
       "      <td>7.000</td>\n",
       "    </tr>\n",
       "    <tr>\n",
       "      <th>35000</th>\n",
       "      <td>3400.00</td>\n",
       "      <td>0.0</td>\n",
       "      <td>7.0</td>\n",
       "      <td>10.000</td>\n",
       "    </tr>\n",
       "    <tr>\n",
       "      <th>60000</th>\n",
       "      <td>2300.00</td>\n",
       "      <td>0.5</td>\n",
       "      <td>6.5</td>\n",
       "      <td>27.000</td>\n",
       "    </tr>\n",
       "    <tr>\n",
       "      <th>80000</th>\n",
       "      <td>4500.00</td>\n",
       "      <td>1.0</td>\n",
       "      <td>6.0</td>\n",
       "      <td>18.000</td>\n",
       "    </tr>\n",
       "    <tr>\n",
       "      <th>280000</th>\n",
       "      <td>4500.00</td>\n",
       "      <td>0.0</td>\n",
       "      <td>5.0</td>\n",
       "      <td>62.000</td>\n",
       "    </tr>\n",
       "  </tbody>\n",
       "</table>\n",
       "<p>487 rows × 4 columns</p>\n",
       "</div>"
      ],
      "text/plain": [
       "            size(sqrt.ft)  Floor  Bathroom  price_per_sqft\n",
       "BHK Rent                                                  \n",
       "1   1500           200.00    0.0       1.0           8.000\n",
       "    1800           500.00    0.0       1.0           4.000\n",
       "    2200           700.00    1.0       1.0           3.000\n",
       "    3000           261.25    0.5       1.0          16.875\n",
       "    3200           220.00    3.0       1.0          15.000\n",
       "...                   ...    ...       ...             ...\n",
       "6   30000         4200.00    0.0       5.0           7.000\n",
       "    35000         3400.00    0.0       7.0          10.000\n",
       "    60000         2300.00    0.5       6.5          27.000\n",
       "    80000         4500.00    1.0       6.0          18.000\n",
       "    280000        4500.00    0.0       5.0          62.000\n",
       "\n",
       "[487 rows x 4 columns]"
      ]
     },
     "execution_count": 47,
     "metadata": {},
     "output_type": "execute_result"
    }
   ],
   "source": [
    "house_rent.groupby(['BHK','Rent']).mean()\n"
   ]
  },
  {
   "cell_type": "code",
   "execution_count": 48,
   "id": "351893be",
   "metadata": {},
   "outputs": [
    {
     "data": {
      "text/html": [
       "<div>\n",
       "<style scoped>\n",
       "    .dataframe tbody tr th:only-of-type {\n",
       "        vertical-align: middle;\n",
       "    }\n",
       "\n",
       "    .dataframe tbody tr th {\n",
       "        vertical-align: top;\n",
       "    }\n",
       "\n",
       "    .dataframe thead th {\n",
       "        text-align: right;\n",
       "    }\n",
       "</style>\n",
       "<table border=\"1\" class=\"dataframe\">\n",
       "  <thead>\n",
       "    <tr style=\"text-align: right;\">\n",
       "      <th></th>\n",
       "      <th>BHK</th>\n",
       "      <th>Rent</th>\n",
       "      <th>size(sqrt.ft)</th>\n",
       "      <th>Floor</th>\n",
       "      <th>Bathroom</th>\n",
       "      <th>price_per_sqft</th>\n",
       "    </tr>\n",
       "  </thead>\n",
       "  <tbody>\n",
       "    <tr>\n",
       "      <th>mean</th>\n",
       "      <td>2.083667</td>\n",
       "      <td>34263.207587</td>\n",
       "      <td>967.167756</td>\n",
       "      <td>3.452687</td>\n",
       "      <td>1.965648</td>\n",
       "      <td>38.972813</td>\n",
       "    </tr>\n",
       "    <tr>\n",
       "      <th>std</th>\n",
       "      <td>0.832237</td>\n",
       "      <td>59753.925612</td>\n",
       "      <td>633.878701</td>\n",
       "      <td>5.764008</td>\n",
       "      <td>0.884497</td>\n",
       "      <td>56.508908</td>\n",
       "    </tr>\n",
       "  </tbody>\n",
       "</table>\n",
       "</div>"
      ],
      "text/plain": [
       "           BHK          Rent  size(sqrt.ft)     Floor  Bathroom  \\\n",
       "mean  2.083667  34263.207587     967.167756  3.452687  1.965648   \n",
       "std   0.832237  59753.925612     633.878701  5.764008  0.884497   \n",
       "\n",
       "      price_per_sqft  \n",
       "mean       38.972813  \n",
       "std        56.508908  "
      ]
     },
     "execution_count": 48,
     "metadata": {},
     "output_type": "execute_result"
    }
   ],
   "source": [
    "house_rent.agg(['mean','std'])"
   ]
  },
  {
   "cell_type": "code",
   "execution_count": 49,
   "id": "bfac184b",
   "metadata": {},
   "outputs": [
    {
     "data": {
      "text/plain": [
       "1001    1200000\n",
       "827     1000000\n",
       "1329     850000\n",
       "1459     700000\n",
       "1484     680000\n",
       "Name: Rent, dtype: int64"
      ]
     },
     "execution_count": 49,
     "metadata": {},
     "output_type": "execute_result"
    }
   ],
   "source": [
    "house_rent[\"Rent\"].sort_values(ascending = False)[:5]"
   ]
  },
  {
   "cell_type": "code",
   "execution_count": 50,
   "id": "794b62d1",
   "metadata": {},
   "outputs": [
    {
     "name": "stdout",
     "output_type": "stream",
     "text": [
      "(array([], dtype=int64),)\n"
     ]
    }
   ],
   "source": [
    "print(np.where(house_rent['Rent']>2000000))"
   ]
  },
  {
   "cell_type": "code",
   "execution_count": 51,
   "id": "39b552ce",
   "metadata": {},
   "outputs": [],
   "source": [
    "# Checking outlier\n",
    "def outlier_thresholds(dataframe, col_name, q1=0.25, q3=0.75):\n",
    "    quartile1 = dataframe[col_name].quantile(q1)\n",
    "    quartile3 = dataframe[col_name].quantile(q3)\n",
    "    interquantile_range = quartile3 - quartile1\n",
    "    up_limit = quartile3 + 1.5 * interquantile_range\n",
    "    low_limit = quartile1 - 1.5 * interquantile_range\n",
    "    return low_limit, up_limit"
   ]
  },
  {
   "cell_type": "code",
   "execution_count": 52,
   "id": "47248b43",
   "metadata": {},
   "outputs": [],
   "source": [
    "# Replace Size variable with thresholds\n",
    "def replace_with_thresholds(dataframe, variable):\n",
    "    low_limit, up_limit = outlier_thresholds(dataframe, variable)\n",
    "    dataframe.loc[(dataframe[variable] < low_limit), variable] = low_limit\n",
    "    dataframe.loc[(dataframe[variable] > up_limit), variable] = up_limit\n",
    "    \n",
    "replace_with_thresholds(house_rent,'Rent')\n",
    "replace_with_thresholds(house_rent,'size(sqrt.ft)')"
   ]
  },
  {
   "cell_type": "code",
   "execution_count": 53,
   "id": "54d33a5f",
   "metadata": {},
   "outputs": [],
   "source": [
    "house_rent.drop(['Area Locality'], axis=1, inplace=True)"
   ]
  },
  {
   "cell_type": "code",
   "execution_count": 54,
   "id": "eba00f08",
   "metadata": {
    "scrolled": true
   },
   "outputs": [
    {
     "data": {
      "text/html": [
       "<div>\n",
       "<style scoped>\n",
       "    .dataframe tbody tr th:only-of-type {\n",
       "        vertical-align: middle;\n",
       "    }\n",
       "\n",
       "    .dataframe tbody tr th {\n",
       "        vertical-align: top;\n",
       "    }\n",
       "\n",
       "    .dataframe thead th {\n",
       "        text-align: right;\n",
       "    }\n",
       "</style>\n",
       "<table border=\"1\" class=\"dataframe\">\n",
       "  <thead>\n",
       "    <tr style=\"text-align: right;\">\n",
       "      <th></th>\n",
       "      <th>date</th>\n",
       "      <th>BHK</th>\n",
       "      <th>Rent</th>\n",
       "      <th>size(sqrt.ft)</th>\n",
       "      <th>Floor</th>\n",
       "      <th>Area Type</th>\n",
       "      <th>City</th>\n",
       "      <th>Furnishing</th>\n",
       "      <th>Tenant_preferred</th>\n",
       "      <th>Bathroom</th>\n",
       "      <th>Point of Contact</th>\n",
       "      <th>month</th>\n",
       "      <th>price_per_sqft</th>\n",
       "    </tr>\n",
       "  </thead>\n",
       "  <tbody>\n",
       "    <tr>\n",
       "      <th>0</th>\n",
       "      <td>18-05-2022</td>\n",
       "      <td>2</td>\n",
       "      <td>10000</td>\n",
       "      <td>1100</td>\n",
       "      <td>0</td>\n",
       "      <td>Super Area</td>\n",
       "      <td>Kolkata</td>\n",
       "      <td>Unfurnished</td>\n",
       "      <td>Bachelors/Family</td>\n",
       "      <td>2</td>\n",
       "      <td>Contact Owner</td>\n",
       "      <td>5</td>\n",
       "      <td>9.0</td>\n",
       "    </tr>\n",
       "    <tr>\n",
       "      <th>1</th>\n",
       "      <td>13-05-2022</td>\n",
       "      <td>2</td>\n",
       "      <td>20000</td>\n",
       "      <td>800</td>\n",
       "      <td>1</td>\n",
       "      <td>Super Area</td>\n",
       "      <td>Kolkata</td>\n",
       "      <td>Semi-Furnished</td>\n",
       "      <td>Bachelors/Family</td>\n",
       "      <td>1</td>\n",
       "      <td>Contact Owner</td>\n",
       "      <td>5</td>\n",
       "      <td>25.0</td>\n",
       "    </tr>\n",
       "    <tr>\n",
       "      <th>2</th>\n",
       "      <td>16-05-2022</td>\n",
       "      <td>2</td>\n",
       "      <td>17000</td>\n",
       "      <td>1000</td>\n",
       "      <td>1</td>\n",
       "      <td>Super Area</td>\n",
       "      <td>Kolkata</td>\n",
       "      <td>Semi-Furnished</td>\n",
       "      <td>Bachelors/Family</td>\n",
       "      <td>1</td>\n",
       "      <td>Contact Owner</td>\n",
       "      <td>5</td>\n",
       "      <td>17.0</td>\n",
       "    </tr>\n",
       "    <tr>\n",
       "      <th>3</th>\n",
       "      <td>07-04-2022</td>\n",
       "      <td>2</td>\n",
       "      <td>10000</td>\n",
       "      <td>800</td>\n",
       "      <td>1</td>\n",
       "      <td>Super Area</td>\n",
       "      <td>Kolkata</td>\n",
       "      <td>Unfurnished</td>\n",
       "      <td>Bachelors/Family</td>\n",
       "      <td>1</td>\n",
       "      <td>Contact Owner</td>\n",
       "      <td>4</td>\n",
       "      <td>12.0</td>\n",
       "    </tr>\n",
       "    <tr>\n",
       "      <th>4</th>\n",
       "      <td>05-09-2022</td>\n",
       "      <td>2</td>\n",
       "      <td>7500</td>\n",
       "      <td>850</td>\n",
       "      <td>1</td>\n",
       "      <td>Carpet Area</td>\n",
       "      <td>Kolkata</td>\n",
       "      <td>Unfurnished</td>\n",
       "      <td>Bachelors</td>\n",
       "      <td>1</td>\n",
       "      <td>Contact Owner</td>\n",
       "      <td>9</td>\n",
       "      <td>9.0</td>\n",
       "    </tr>\n",
       "  </tbody>\n",
       "</table>\n",
       "</div>"
      ],
      "text/plain": [
       "         date  BHK   Rent  size(sqrt.ft)  Floor    Area Type     City  \\\n",
       "0  18-05-2022    2  10000           1100      0   Super Area  Kolkata   \n",
       "1  13-05-2022    2  20000            800      1   Super Area  Kolkata   \n",
       "2  16-05-2022    2  17000           1000      1   Super Area  Kolkata   \n",
       "3  07-04-2022    2  10000            800      1   Super Area  Kolkata   \n",
       "4  05-09-2022    2   7500            850      1  Carpet Area  Kolkata   \n",
       "\n",
       "       Furnishing  Tenant_preferred  Bathroom Point of Contact month  \\\n",
       "0     Unfurnished  Bachelors/Family         2    Contact Owner     5   \n",
       "1  Semi-Furnished  Bachelors/Family         1    Contact Owner     5   \n",
       "2  Semi-Furnished  Bachelors/Family         1    Contact Owner     5   \n",
       "3     Unfurnished  Bachelors/Family         1    Contact Owner     4   \n",
       "4     Unfurnished         Bachelors         1    Contact Owner     9   \n",
       "\n",
       "   price_per_sqft  \n",
       "0             9.0  \n",
       "1            25.0  \n",
       "2            17.0  \n",
       "3            12.0  \n",
       "4             9.0  "
      ]
     },
     "execution_count": 54,
     "metadata": {},
     "output_type": "execute_result"
    }
   ],
   "source": [
    "house_rent.head()"
   ]
  },
  {
   "cell_type": "code",
   "execution_count": 55,
   "id": "8d7440a0",
   "metadata": {},
   "outputs": [
    {
     "data": {
      "text/plain": [
       "(4745, 13)"
      ]
     },
     "execution_count": 55,
     "metadata": {},
     "output_type": "execute_result"
    }
   ],
   "source": [
    "house_rent.shape"
   ]
  },
  {
   "cell_type": "code",
   "execution_count": 56,
   "id": "94b71d82",
   "metadata": {},
   "outputs": [
    {
     "name": "stdout",
     "output_type": "stream",
     "text": [
      "<class 'pandas.core.frame.DataFrame'>\n",
      "Int64Index: 4745 entries, 0 to 4745\n",
      "Data columns (total 13 columns):\n",
      " #   Column            Non-Null Count  Dtype   \n",
      "---  ------            --------------  -----   \n",
      " 0   date              4745 non-null   object  \n",
      " 1   BHK               4745 non-null   int64   \n",
      " 2   Rent              4745 non-null   int64   \n",
      " 3   size(sqrt.ft)     4745 non-null   int64   \n",
      " 4   Floor             4745 non-null   int32   \n",
      " 5   Area Type         4745 non-null   object  \n",
      " 6   City              4745 non-null   object  \n",
      " 7   Furnishing        4745 non-null   object  \n",
      " 8   Tenant_preferred  4745 non-null   object  \n",
      " 9   Bathroom          4745 non-null   int64   \n",
      " 10  Point of Contact  4745 non-null   object  \n",
      " 11  month             4745 non-null   category\n",
      " 12  price_per_sqft    4745 non-null   float64 \n",
      "dtypes: category(1), float64(1), int32(1), int64(4), object(6)\n",
      "memory usage: 468.4+ KB\n"
     ]
    }
   ],
   "source": [
    "house_rent.info()"
   ]
  },
  {
   "cell_type": "code",
   "execution_count": 57,
   "id": "58144f36",
   "metadata": {},
   "outputs": [],
   "source": [
    "house_rent.drop(['date'], axis = 1, inplace=True)"
   ]
  },
  {
   "cell_type": "code",
   "execution_count": 58,
   "id": "619df767",
   "metadata": {},
   "outputs": [
    {
     "name": "stdout",
     "output_type": "stream",
     "text": [
      "<class 'pandas.core.frame.DataFrame'>\n",
      "Int64Index: 4745 entries, 0 to 4745\n",
      "Data columns (total 12 columns):\n",
      " #   Column            Non-Null Count  Dtype  \n",
      "---  ------            --------------  -----  \n",
      " 0   BHK               4745 non-null   int64  \n",
      " 1   Rent              4745 non-null   int64  \n",
      " 2   size(sqrt.ft)     4745 non-null   int64  \n",
      " 3   Floor             4745 non-null   int32  \n",
      " 4   Area Type         4745 non-null   int32  \n",
      " 5   City              4745 non-null   int32  \n",
      " 6   Furnishing        4745 non-null   int32  \n",
      " 7   Tenant_preferred  4745 non-null   int32  \n",
      " 8   Bathroom          4745 non-null   int64  \n",
      " 9   Point of Contact  4745 non-null   int32  \n",
      " 10  month             4745 non-null   int64  \n",
      " 11  price_per_sqft    4745 non-null   float64\n",
      "dtypes: float64(1), int32(6), int64(5)\n",
      "memory usage: 370.7 KB\n"
     ]
    }
   ],
   "source": [
    "from sklearn import preprocessing\n",
    "\n",
    "\n",
    "label_encoder = preprocessing.LabelEncoder()\n",
    "L=['Area Type','City','Furnishing','Tenant_preferred','Point of Contact','month']\n",
    "for i in L:\n",
    "    house_rent[i]= label_encoder.fit_transform(house_rent[i])\n",
    "house_rent.info()"
   ]
  },
  {
   "cell_type": "code",
   "execution_count": 59,
   "id": "44045bbf",
   "metadata": {},
   "outputs": [
    {
     "data": {
      "text/plain": [
       "(4745, 12)"
      ]
     },
     "execution_count": 59,
     "metadata": {},
     "output_type": "execute_result"
    }
   ],
   "source": [
    "house_rent.shape"
   ]
  },
  {
   "cell_type": "code",
   "execution_count": 60,
   "id": "6eeca6e6",
   "metadata": {},
   "outputs": [],
   "source": [
    "X = house_rent.drop(['Rent'],axis=1)\n",
    "y = house_rent['Rent']"
   ]
  },
  {
   "cell_type": "code",
   "execution_count": 61,
   "id": "ad0b5594",
   "metadata": {
    "scrolled": true
   },
   "outputs": [
    {
     "name": "stdout",
     "output_type": "stream",
     "text": [
      "x train:  (3796, 11)\n",
      "x test:  (949, 11)\n",
      "y train:  (3796,)\n",
      "y test:  (949,)\n"
     ]
    }
   ],
   "source": [
    "from sklearn.model_selection import train_test_split\n",
    "X_train, X_test, y_train, y_test = train_test_split(X, y, test_size=0.2, random_state=10)\n",
    "print(\"x train: \",X_train.shape)\n",
    "print(\"x test: \",X_test.shape)\n",
    "print(\"y train: \",y_train.shape)\n",
    "print(\"y test: \",y_test.shape)"
   ]
  },
  {
   "cell_type": "code",
   "execution_count": 62,
   "id": "b85a5414",
   "metadata": {
    "scrolled": true
   },
   "outputs": [],
   "source": [
    "from sklearn.metrics import mean_absolute_error\n",
    "from sklearn.metrics import mean_squared_error\n",
    "from sklearn.metrics import r2_score\n",
    "from sklearn import linear_model\n",
    "\n",
    "\n",
    "from sklearn.linear_model import LinearRegression\n",
    "from sklearn.tree import DecisionTreeRegressor\n",
    "from sklearn.ensemble import RandomForestRegressor\n",
    "\n",
    "regr = linear_model.LinearRegression()\n",
    "regr.fit(X_train,y_train)\n",
    "y_pred = regr.predict(X_train)"
   ]
  },
  {
   "cell_type": "code",
   "execution_count": 63,
   "id": "8f1b62a2",
   "metadata": {},
   "outputs": [
    {
     "name": "stdout",
     "output_type": "stream",
     "text": [
      "R squared: 0.7717273840765395\n"
     ]
    }
   ],
   "source": [
    "r2 = r2_score(y_true=y_train,y_pred=y_pred)\n",
    "r2\n",
    "print('R squared: {}'.format(r2))"
   ]
  },
  {
   "cell_type": "code",
   "execution_count": 64,
   "id": "62ea5e6d",
   "metadata": {},
   "outputs": [
    {
     "data": {
      "text/plain": [
       "0.7682334154654662"
      ]
     },
     "execution_count": 64,
     "metadata": {},
     "output_type": "execute_result"
    }
   ],
   "source": [
    "adj_r2 = 1-((1-r2)*(200-1)/(200-3-1))\n",
    "adj_r2"
   ]
  },
  {
   "cell_type": "code",
   "execution_count": 65,
   "id": "32f1158c",
   "metadata": {},
   "outputs": [
    {
     "name": "stdout",
     "output_type": "stream",
     "text": [
      "Mean of Residuals -4.906862879955103e-12\n"
     ]
    }
   ],
   "source": [
    "residuals = y_train.values-y_pred\n",
    "mean_residuals = np.mean(residuals)\n",
    "print('Mean of Residuals {}'.format(mean_residuals))  "
   ]
  },
  {
   "cell_type": "markdown",
   "id": "cdf51e07",
   "metadata": {},
   "source": [
    "#mean is almost zero our asumption satisfy\n",
    "residuals satisfy mean 0 and standaed sigma square"
   ]
  },
  {
   "cell_type": "code",
   "execution_count": 66,
   "id": "e5c69139",
   "metadata": {},
   "outputs": [
    {
     "data": {
      "image/png": "[encoded data removed]",
      "text/plain": [
       "<Figure size 432x288 with 1 Axes>"
      ]
     },
     "metadata": {
      "needs_background": "light"
     },
     "output_type": "display_data"
    }
   ],
   "source": [
    "p = sns.scatterplot(y_pred,residuals)\n",
    "plt.xlabel('y_pred/predicted values')\n",
    "plt.ylabel('Residuals')\n",
    "plt.ylim(-40000,40000)\n",
    "plt.xlim(0,30000)\n",
    "p = sns.lineplot([0,30000],[0,0],color='red')\n",
    "p = plt.title('Residuals vs fitted values plot for autocorrelation check')"
   ]
  },
  {
   "cell_type": "code",
   "execution_count": 67,
   "id": "65fdf057",
   "metadata": {},
   "outputs": [
    {
     "data": {
      "image/png": "[encoded data removed]",
      "text/plain": [
       "<Figure size 720x360 with 1 Axes>"
      ]
     },
     "metadata": {
      "needs_background": "light"
     },
     "output_type": "display_data"
    }
   ],
   "source": [
    "plt.figure(figsize=(10,5))\n",
    "p = sns.lineplot(y_pred,residuals,marker='o',color='blue')\n",
    "plt.xlabel('y_pred/predicted values')\n",
    "plt.ylabel('Residuals')\n",
    "plt.ylim(-40000,40000)\n",
    "plt.xlim(0,30000)\n",
    "p = sns.lineplot([0,30000],[0,0],color='red')\n",
    "p = plt.title('Residuals vs fitted values plot for autocorrelation check')"
   ]
  },
  {
   "cell_type": "code",
   "execution_count": 68,
   "id": "dd4688e6",
   "metadata": {},
   "outputs": [
    {
     "data": {
      "image/png": "[encoded data removed]",
      "text/plain": [
       "<Figure size 432x288 with 1 Axes>"
      ]
     },
     "metadata": {
      "needs_background": "light"
     },
     "output_type": "display_data"
    }
   ],
   "source": [
    "p = sns.distplot(residuals,kde=True)\n",
    "p = plt.title('Normality of error terms/residuals')"
   ]
  },
  {
   "cell_type": "code",
   "execution_count": 69,
   "id": "ed16c86d",
   "metadata": {},
   "outputs": [],
   "source": [
    "from sklearn.metrics import r2_score\n",
    "from sklearn.model_selection import cross_val_score"
   ]
  },
  {
   "cell_type": "code",
   "execution_count": 70,
   "id": "3a13f523",
   "metadata": {},
   "outputs": [],
   "source": [
    "CV = []\n",
    "R2_train = []\n",
    "R2_test = []\n",
    "\n",
    "def car_pred_model(model,model_name):\n",
    "    # Training model\n",
    "    model.fit(X_train,y_train)\n",
    "            \n",
    "    # R2 score of train set\n",
    "    y_pred_train = model.predict(X_train)\n",
    "    R2_train_model = r2_score(y_train,y_pred_train)\n",
    "    R2_train.append(round(R2_train_model,2))\n",
    "    \n",
    "    # R2 score of test set\n",
    "    y_pred_test = model.predict(X_test)\n",
    "    R2_test_model = r2_score(y_test,y_pred_test)\n",
    "    R2_test.append(round(R2_test_model,2))\n",
    "    \n",
    "    # R2 mean of train set using Cross validation\n",
    "    cross_val = cross_val_score(model ,X_train ,y_train ,cv=5)\n",
    "    cv_mean = cross_val.mean()\n",
    "    CV.append(round(cv_mean,2))\n",
    "    \n",
    "    # Printing results\n",
    "    print(\"Train R2-score :\",round(R2_train_model,2))\n",
    "    print(\"Test R2-score :\",round(R2_test_model,2))\n",
    "    print(\"Train CV scores :\",cross_val)\n",
    "    print(\"Train CV mean :\",round(cv_mean,2))\n",
    "    \n",
    "    # Plotting Graphs \n",
    "    # Residual Plot of train data\n",
    "    fig, ax = plt.subplots(1,2,figsize = (10,4))\n",
    "    ax[0].set_title('Residual Plot of Train samples')\n",
    "    sns.distplot((y_train-y_pred_train),hist = False,ax = ax[0])\n",
    "    ax[0].set_xlabel('y_train - y_pred_train')\n",
    "    \n",
    "    # Y_test vs Y_train scatter plot\n",
    "    ax[1].set_title('y_test vs y_pred_test')\n",
    "    ax[1].scatter(x = y_test, y = y_pred_test)\n",
    "    ax[1].set_xlabel('y_test')\n",
    "    ax[1].set_ylabel('y_pred_test')\n",
    "    \n",
    "    plt.show()"
   ]
  },
  {
   "cell_type": "code",
   "execution_count": 71,
   "id": "cf1b52ac",
   "metadata": {},
   "outputs": [
    {
     "name": "stdout",
     "output_type": "stream",
     "text": [
      "Train R2-score : 0.77\n",
      "Test R2-score : 0.66\n",
      "Train CV scores : [0.7654828  0.77734235 0.76250078 0.76696467 0.75173796]\n",
      "Train CV mean : 0.76\n"
     ]
    },
    {
     "data": {
      "image/png": "[encoded data removed]",
      "text/plain": [
       "<Figure size 720x288 with 2 Axes>"
      ]
     },
     "metadata": {
      "needs_background": "light"
     },
     "output_type": "display_data"
    }
   ],
   "source": [
    "from sklearn.linear_model import LinearRegression\n",
    "lr = LinearRegression()\n",
    "car_pred_model(lr,'Linear_Regressor,pkl')"
   ]
  },
  {
   "cell_type": "code",
   "execution_count": 72,
   "id": "075dfd81",
   "metadata": {},
   "outputs": [
    {
     "name": "stdout",
     "output_type": "stream",
     "text": [
      "Train R2-score : 0.77\n",
      "Test R2-score : 0.66\n",
      "Train CV scores : [0.7654828  0.77734236 0.76250078 0.76696466 0.7517332 ]\n",
      "Train CV mean : 0.76\n"
     ]
    },
    {
     "data": {
      "image/png": "[encoded data removed]",
      "text/plain": [
       "<Figure size 720x288 with 2 Axes>"
      ]
     },
     "metadata": {
      "needs_background": "light"
     },
     "output_type": "display_data"
    }
   ],
   "source": [
    "from sklearn.linear_model import Ridge\n",
    "from sklearn.model_selection import RandomizedSearchCV\n",
    "\n",
    "#now create object of ridge model\n",
    "rg = Ridge()\n",
    "#now range of alpha\n",
    "alpha = np.logspace(-4,4,num=10)\n",
    "\n",
    "# Creating RandomizeCV to find the best estimator of hyperparameter\n",
    "rg_rs = RandomizedSearchCV(estimator = rg, param_distributions = dict(alpha=alpha))\n",
    "car_pred_model(rg_rs,'ridge.pkl')"
   ]
  },
  {
   "cell_type": "markdown",
   "id": "d80ea386",
   "metadata": {},
   "source": [
    "# Decision Tree Regressor"
   ]
  },
  {
   "cell_type": "code",
   "execution_count": 73,
   "id": "d4642b1b",
   "metadata": {},
   "outputs": [
    {
     "data": {
      "text/plain": [
       "0.979829820950577"
      ]
     },
     "execution_count": 73,
     "metadata": {},
     "output_type": "execute_result"
    }
   ],
   "source": [
    "from sklearn.ensemble import RandomForestRegressor\n",
    "\n",
    "from sklearn.ensemble import RandomForestRegressor\n",
    "from sklearn.tree import DecisionTreeRegressor\n",
    "\n",
    "\n",
    "dt_regressor = DecisionTreeRegressor(random_state=0)\n",
    "dt_regressor.fit(X_train,y_train)\n",
    "y_train_pred = dt_regressor.predict(X_train)\n",
    "y_test_pred = dt_regressor.predict(X_test)\n",
    "dt_regressor.score(X_test,y_test)"
   ]
  },
  {
   "cell_type": "markdown",
   "id": "eca7ff80",
   "metadata": {},
   "source": [
    "# Random Forest Regressor "
   ]
  },
  {
   "cell_type": "code",
   "execution_count": 74,
   "id": "f36e5af3",
   "metadata": {},
   "outputs": [
    {
     "data": {
      "text/plain": [
       "0.994962946239335"
      ]
     },
     "execution_count": 74,
     "metadata": {},
     "output_type": "execute_result"
    }
   ],
   "source": [
    "Rf = RandomForestRegressor(n_estimators = 15,\n",
    "                              criterion = 'mse',\n",
    "                              random_state = 20,\n",
    "                              n_jobs = -1)\n",
    "Rf.fit(X_train,y_train)\n",
    "Rf_train_pred = Rf.predict(X_train)\n",
    "Rf_test_pred = Rf.predict(X_test)\n",
    "\n",
    "\n",
    "r2_score(y_test,Rf_test_pred)"
   ]
  },
  {
   "cell_type": "markdown",
   "id": "cf048d4b",
   "metadata": {},
   "source": [
    "# KNN"
   ]
  },
  {
   "cell_type": "code",
   "execution_count": 75,
   "id": "80e5dad9",
   "metadata": {},
   "outputs": [],
   "source": [
    "from sklearn.neighbors import KNeighborsRegressor\n",
    "neighbors = range(1, 30, 2)\n",
    "\n",
    "training_scores = []\n",
    "test_scores = []\n",
    "for n_neighbors in neighbors:\n",
    "    knn = KNeighborsRegressor(n_neighbors=n_neighbors).fit(X_train, y_train)\n",
    "    training_scores.append(knn.score(X_train, y_train))\n",
    "    test_scores.append(knn.score(X_test, y_test))"
   ]
  },
  {
   "cell_type": "code",
   "execution_count": 76,
   "id": "f0ffb097",
   "metadata": {},
   "outputs": [
    {
     "name": "stdout",
     "output_type": "stream",
     "text": [
      "best cross-validation score: 0.98\n",
      "test-set score: 0.979\n"
     ]
    }
   ],
   "source": [
    "knn = KNeighborsRegressor(n_neighbors=7)\n",
    "score = cross_val_score(knn, X_train, y_train, cv=10)\n",
    "print(f\"best cross-validation score: {np.max(score):.3}\")\n",
    "\n",
    "knn.fit(X_train, y_train)\n",
    "print(f\"test-set score: {knn.score(X_test, y_test):.3f}\")"
   ]
  },
  {
   "cell_type": "code",
   "execution_count": null,
   "id": "f64c9d87",
   "metadata": {},
   "outputs": [],
   "source": []
  },
  {
   "cell_type": "code",
   "execution_count": null,
   "id": "e951cbe4",
   "metadata": {},
   "outputs": [],
   "source": []
  }
 ],
 "metadata": {
  "kernelspec": {
   "display_name": "Python 3 (ipykernel)",
   "language": "python",
   "name": "python3"
  },
  "language_info": {
   "codemirror_mode": {
    "name": "ipython",
    "version": 3
   },
   "file_extension": ".py",
   "mimetype": "text/x-python",
   "name": "python",
   "nbconvert_exporter": "python",
   "pygments_lexer": "ipython3",
   "version": "3.9.12"
  }
 },
 "nbformat": 4,
 "nbformat_minor": 5
}
